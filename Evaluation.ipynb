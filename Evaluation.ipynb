{
 "cells": [
  {
   "cell_type": "code",
   "execution_count": 1,
   "metadata": {},
   "outputs": [],
   "source": [
    "%reload_ext autoreload\n",
    "%autoreload 2\n",
    "%matplotlib inline\n",
    "\n",
    "\n",
    "import pickle\n",
    "import numpy as np\n",
    "\n",
    "from SlideRunner.dataAccess.database import Database\n",
    "from lib.calculate_F1 import *\n",
    "optimal_threshold, F1_values = {},{}"
   ]
  },
  {
   "cell_type": "markdown",
   "metadata": {},
   "source": [
    "# Object detection (single shot) based on RetinaNet"
   ]
  },
  {
   "cell_type": "markdown",
   "metadata": {},
   "source": [
    "## First: Clustering- and Object-Detection-augmented Expert Labelling (CODAEL)\n",
    "\n",
    "We first optimize the threshold on the train+validation set, and then run inference on the test set."
   ]
  },
  {
   "cell_type": "code",
   "execution_count": 2,
   "metadata": {},
   "outputs": [
    {
     "name": "stdout",
     "output_type": "stream",
     "text": [
      "Optimizing threshold for validation set of 14 files:  a8773be388e12df89edd.svs,460906c0b1fe17ea5354.svs,d0423ef9a648bb66a763.svs,50cf88e9a33df0c0c8f9.svs,da18e7b9846e9d38034c.svs,d7a8af121d7d4f3fbf01.svs,2191a7aa287ce1d5dbc0.svs,c4b95da36e32993289cb.svs,72c93e042d0171a61012.svs,4eee7b944ad5e46c60ce.svs,3d3d04eca056556b0b26.svs,084383c18b9060880e82.svs,d37ab62158945f22deed.svs,deb768e5efb9d1dcbc13.svs\n",
      "Best threshold: F1= 0.7737527242740178 Threshold= 0.6600000000000004\n",
      "Calculating F1 for test set of 7 files\n",
      "Overall: \n",
      "TP: 3917 FP: 1217 FN:  1446 F1: 0.7463084690864057\n"
     ]
    }
   ],
   "source": [
    "databasefile = 'databases/MITOS_WSI_CMC_CODAEL_TR.sqlite'\n",
    "\n",
    "resfile = f'results/trainval_RetinaNet-CMC-CODAEL-512sh-b1.pth-CODAEL-val-inference_results_boxes.p.bz2'#\n",
    "ident = f'CODAEL'\n",
    "\n",
    "optimal_threshold[ident], F1scores, thrs = optimize_threshold(databasefile=databasefile, minthres=0.3, resfile=resfile)\n",
    "\n",
    "resfile = f'results/test_RetinaNet-CMC-CODAEL-512sh-b1.pth-CODAEL-val-inference_results_boxes.p.bz2'#\n",
    "\n",
    "F1_values[ident], individ = calculate_F1(databasefile=databasefile, resfile=resfile, det_thres=optimal_threshold[ident])\n"
   ]
  },
  {
   "cell_type": "markdown",
   "metadata": {},
   "source": [
    "## Second: Object Detection-Augmented and Expert Labeled (ODAEL) data set variant\n",
    "\n",
    "In this variant, an object-detection pipeline helped to find all mitotic figures and similar cells."
   ]
  },
  {
   "cell_type": "code",
   "execution_count": 3,
   "metadata": {},
   "outputs": [
    {
     "name": "stdout",
     "output_type": "stream",
     "text": [
      "Optimizing threshold for validation set of 14 files:  a8773be388e12df89edd.svs,460906c0b1fe17ea5354.svs,d0423ef9a648bb66a763.svs,50cf88e9a33df0c0c8f9.svs,da18e7b9846e9d38034c.svs,d7a8af121d7d4f3fbf01.svs,2191a7aa287ce1d5dbc0.svs,c4b95da36e32993289cb.svs,72c93e042d0171a61012.svs,4eee7b944ad5e46c60ce.svs,3d3d04eca056556b0b26.svs,084383c18b9060880e82.svs,d37ab62158945f22deed.svs,deb768e5efb9d1dcbc13.svs\n",
      "Best threshold: F1= 0.7106227106227107 Threshold= 0.6800000000000004\n",
      "Calculating F1 for test set of 7 files\n",
      "Overall: \n",
      "TP: 3655 FP: 1335 FN:  1784 F1: 0.7009300987630646\n"
     ]
    }
   ],
   "source": [
    "databasefile = 'databases/MITOS_WSI_CMC_ODAEL_TR.sqlite'\n",
    "\n",
    "resfile = f'results/trainval_RetinaNet-CMC-ODAEL-512sh-b1.pth-ODAEL-val-inference_results_boxes.p.bz2'\n",
    "ident = f'ODAEL'\n",
    "\n",
    "optimal_threshold[ident], F1scores, thrs = optimize_threshold(databasefile=databasefile, minthres=0.3, resfile=resfile)\n",
    "\n",
    "resfile = f'results/test_RetinaNet-CMC-ODAEL-512sh-b1.pth-ODAEL-val-inference_results_boxes.p.bz2'\n",
    "\n",
    "F1_values[ident], individ = calculate_F1(databasefile=databasefile, resfile=resfile, det_thres=optimal_threshold[ident])\n",
    "\n"
   ]
  },
  {
   "cell_type": "markdown",
   "metadata": {},
   "source": [
    "## Lastly: The initial manual labeling by two experts (MEL)"
   ]
  },
  {
   "cell_type": "code",
   "execution_count": 4,
   "metadata": {},
   "outputs": [
    {
     "name": "stdout",
     "output_type": "stream",
     "text": [
      "Optimizing threshold for validation set of 14 files:  a8773be388e12df89edd.svs,460906c0b1fe17ea5354.svs,d0423ef9a648bb66a763.svs,50cf88e9a33df0c0c8f9.svs,da18e7b9846e9d38034c.svs,d7a8af121d7d4f3fbf01.svs,2191a7aa287ce1d5dbc0.svs,c4b95da36e32993289cb.svs,72c93e042d0171a61012.svs,4eee7b944ad5e46c60ce.svs,3d3d04eca056556b0b26.svs,084383c18b9060880e82.svs,d37ab62158945f22deed.svs,deb768e5efb9d1dcbc13.svs\n",
      "Best threshold: F1= 0.7147628590514362 Threshold= 0.6600000000000004\n",
      "Calculating F1 for test set of 7 files\n",
      "Overall: \n",
      "TP: 3480 FP: 1349 FN:  1707 F1: 0.694888178913738\n"
     ]
    }
   ],
   "source": [
    "databasefile = 'databases/MITOS_WSI_CMC_MEL.sqlite'\n",
    "resfile = f'results/trainval_RetinaNet-CMC-MEL-512sh-b1.pth-MELshort-val-inference_results_boxes.p.bz2'\n",
    "ident = f'MEL'\n",
    "\n",
    "optimal_threshold[ident], F1scores, thrs = optimize_threshold(databasefile=databasefile, minthres=0.3, resfile=resfile)\n",
    "\n",
    "resfile = f'results/test_RetinaNet-CMC-MEL-512sh-b1.pth-MELshort-val-inference_results_boxes.p.bz2'\n",
    "\n",
    "F1_values[ident], individ = calculate_F1(databasefile=databasefile, resfile=resfile, det_thres=optimal_threshold[ident])\n",
    "\n"
   ]
  },
  {
   "cell_type": "markdown",
   "metadata": {},
   "source": [
    "# Two-stage approach\n",
    "In this approach, we use the results of the previous RetinaNet as a first stage, and a ResNet-18 classifier as secondary stage. It is being evaluated for all sets.\n"
   ]
  },
  {
   "cell_type": "markdown",
   "metadata": {},
   "source": [
    "### First, again, the CODAEL data set variant."
   ]
  },
  {
   "cell_type": "code",
   "execution_count": 5,
   "metadata": {},
   "outputs": [
    {
     "name": "stdout",
     "output_type": "stream",
     "text": [
      "Optimizing threshold for validation set of 14 files:  a8773be388e12df89edd.svs,460906c0b1fe17ea5354.svs,d0423ef9a648bb66a763.svs,50cf88e9a33df0c0c8f9.svs,da18e7b9846e9d38034c.svs,d7a8af121d7d4f3fbf01.svs,2191a7aa287ce1d5dbc0.svs,c4b95da36e32993289cb.svs,72c93e042d0171a61012.svs,4eee7b944ad5e46c60ce.svs,3d3d04eca056556b0b26.svs,084383c18b9060880e82.svs,d37ab62158945f22deed.svs,deb768e5efb9d1dcbc13.svs\n",
      "Best threshold: F1= 0.8384427089404359 Threshold= 0.5500000000000003\n",
      "Calculating F1 for test set of 7 files\n",
      "Overall: \n",
      "TP: 4075 FP: 873 FN:  1288 F1: 0.7904180001939676\n"
     ]
    }
   ],
   "source": [
    "databasefile = 'databases/MITOS_WSI_CMC_CODAEL_TR.sqlite'\n",
    "\n",
    "resfile = 'results/trainval_2ndstage_RetinaNet-CMC-CODAEL-512sh-b1.pth-CODAEL-val-inference_results_boxes.p.bz2'\n",
    "ident = f'CODAEL_2nd'\n",
    "\n",
    "optimal_threshold[ident], F1scores, thrs = optimize_threshold(databasefile=databasefile, minthres=0.3, resfile=resfile)\n",
    "\n",
    "resfile = 'results/test_2ndstage_RetinaNet-CMC-CODAEL-512sh-b1.pth-CODAEL-val-inference_results_boxes.p.bz2'\n",
    "\n",
    "F1_values[ident], individ = calculate_F1(databasefile=databasefile, resfile=resfile, det_thres=optimal_threshold[ident])\n",
    "\n"
   ]
  },
  {
   "cell_type": "markdown",
   "metadata": {},
   "source": [
    "### Then, the ODAEL without any clustering help, detected by the dual stage setup:"
   ]
  },
  {
   "cell_type": "code",
   "execution_count": 6,
   "metadata": {},
   "outputs": [
    {
     "name": "stdout",
     "output_type": "stream",
     "text": [
      "Optimizing threshold for validation set of 14 files:  a8773be388e12df89edd.svs,460906c0b1fe17ea5354.svs,d0423ef9a648bb66a763.svs,50cf88e9a33df0c0c8f9.svs,da18e7b9846e9d38034c.svs,d7a8af121d7d4f3fbf01.svs,2191a7aa287ce1d5dbc0.svs,c4b95da36e32993289cb.svs,72c93e042d0171a61012.svs,4eee7b944ad5e46c60ce.svs,3d3d04eca056556b0b26.svs,084383c18b9060880e82.svs,d37ab62158945f22deed.svs,deb768e5efb9d1dcbc13.svs\n",
      "Best threshold: F1= 0.8214025040705182 Threshold= 0.5800000000000003\n",
      "Calculating F1 for test set of 7 files\n",
      "Overall: \n",
      "TP: 4200 FP: 1272 FN:  1239 F1: 0.769865273577124\n"
     ]
    }
   ],
   "source": [
    "databasefile = 'databases/MITOS_WSI_CMC_ODAEL_TR.sqlite'\n",
    "\n",
    "resfile = 'results/trainval_2ndstage_RetinaNet-CMC-ODAEL-512sh-b1.pth-ODAEL-val-inference_results_boxes.p.bz2'\n",
    "ident = f'ODAEL_2nd'\n",
    "\n",
    "optimal_threshold[ident], F1scores, thrs = optimize_threshold(databasefile=databasefile, minthres=0.3, resfile=resfile)\n",
    "\n",
    "resfile = 'results/test_2ndstage_RetinaNet-CMC-ODAEL-512sh-b1.pth-ODAEL-val-inference_results_boxes.p.bz2'\n",
    "\n",
    "F1_values[ident], individ = calculate_F1(databasefile=databasefile, resfile=resfile, det_thres=optimal_threshold[ident])\n",
    "\n"
   ]
  },
  {
   "cell_type": "markdown",
   "metadata": {},
   "source": [
    "### And finally, the manual expert-labeled set with two stages"
   ]
  },
  {
   "cell_type": "code",
   "execution_count": 7,
   "metadata": {},
   "outputs": [
    {
     "name": "stdout",
     "output_type": "stream",
     "text": [
      "Optimizing threshold for validation set of 14 files:  a8773be388e12df89edd.svs,460906c0b1fe17ea5354.svs,d0423ef9a648bb66a763.svs,50cf88e9a33df0c0c8f9.svs,da18e7b9846e9d38034c.svs,d7a8af121d7d4f3fbf01.svs,2191a7aa287ce1d5dbc0.svs,c4b95da36e32993289cb.svs,72c93e042d0171a61012.svs,4eee7b944ad5e46c60ce.svs,3d3d04eca056556b0b26.svs,084383c18b9060880e82.svs,d37ab62158945f22deed.svs,deb768e5efb9d1dcbc13.svs\n",
      "Best threshold: F1= 0.7232958429130678 Threshold= 0.8600000000000005\n",
      "Calculating F1 for test set of 7 files\n",
      "Overall: \n",
      "TP: 3567 FP: 1293 FN:  1620 F1: 0.7100627052851598\n"
     ]
    }
   ],
   "source": [
    "\n",
    "databasefile = 'databases/MITOS_WSI_CMC_MEL.sqlite'\n",
    "\n",
    "resfile = 'results/trainval_2ndstage_RetinaNet-CMC-MEL-512sh-b1.pth-MELshort-val-inference_results_boxes.p.bz2'\n",
    "ident = f'MEL_2nd'\n",
    "\n",
    "optimal_threshold[ident], F1scores, thrs = optimize_threshold(databasefile=databasefile, minthres=0.3, resfile=resfile)\n",
    "\n",
    "resfile = 'results/test_2ndstage_RetinaNet-CMC-MEL-512sh-b1.pth-MELshort-val-inference_results_boxes.p.bz2'\n",
    "\n",
    "F1_values[ident], individ = calculate_F1(databasefile=databasefile, resfile=resfile, det_thres=optimal_threshold[ident])\n",
    "\n"
   ]
  },
  {
   "cell_type": "markdown",
   "metadata": {},
   "source": [
    "### Print out table 2 in the manuscript"
   ]
  },
  {
   "cell_type": "code",
   "execution_count": 8,
   "metadata": {},
   "outputs": [
    {
     "name": "stdout",
     "output_type": "stream",
     "text": [
      "Single stage (RetinaNet, 512$\times$512) & 0.695 & 0.701 & 0.746 \\\n",
      "Dual stage (RetinaNet + ResNet-18) & 0.710 & 0.770 & 0.790 \\\n"
     ]
    }
   ],
   "source": [
    "print(f'Single stage (RetinaNet, 512$\\times$512) & {F1_values[\"MEL\"]:.3f} & {F1_values[\"ODAEL\"]:.3f} & {F1_values[\"CODAEL\"]:.3f} \\\\')\n",
    "print(f'Dual stage (RetinaNet + ResNet-18) & {F1_values[\"MEL_2nd\"]:.3f} & {F1_values[\"ODAEL_2nd\"]:.3f} & {F1_values[\"CODAEL_2nd\"]:.3f} \\\\')"
   ]
  },
  {
   "cell_type": "code",
   "execution_count": null,
   "metadata": {},
   "outputs": [],
   "source": []
  }
 ],
 "metadata": {
  "kernelspec": {
   "display_name": "Python 3",
   "language": "python",
   "name": "python3"
  },
  "language_info": {
   "codemirror_mode": {
    "name": "ipython",
    "version": 3
   },
   "file_extension": ".py",
   "mimetype": "text/x-python",
   "name": "python",
   "nbconvert_exporter": "python",
   "pygments_lexer": "ipython3",
   "version": "3.6.9"
  }
 },
 "nbformat": 4,
 "nbformat_minor": 2
}
