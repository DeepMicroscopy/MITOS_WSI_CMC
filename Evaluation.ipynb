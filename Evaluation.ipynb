{
 "cells": [
  {
   "cell_type": "code",
   "execution_count": 1,
   "metadata": {},
   "outputs": [],
   "source": [
    "%reload_ext autoreload\n",
    "%autoreload 2\n",
    "%matplotlib inline\n",
    "\n",
    "\n",
    "import pickle\n",
    "import numpy as np\n",
    "\n",
    "from SlideRunner_dataAccess.database import Database\n",
    "from lib.calculate_F1 import *\n",
    "from lib.extractDetections import *\n",
    "optimal_threshold, F1_values = {},{}"
   ]
  },
  {
   "cell_type": "markdown",
   "metadata": {},
   "source": [
    "# Object detection (single shot) based on RetinaNet"
   ]
  },
  {
   "cell_type": "markdown",
   "metadata": {},
   "source": [
    "## First: Clustering- and Object-Detection-augmented Expert Labelling (CODAEL)\n",
    "\n",
    "We first optimize the threshold on the train+validation set, and then run inference on the test set."
   ]
  },
  {
   "cell_type": "code",
   "execution_count": 2,
   "metadata": {},
   "outputs": [
    {
     "name": "stdout",
     "output_type": "stream",
     "text": [
      "Optimizing threshold for validation set of 14 files:  a8773be388e12df89edd.svs,460906c0b1fe17ea5354.svs,d0423ef9a648bb66a763.svs,50cf88e9a33df0c0c8f9.svs,da18e7b9846e9d38034c.svs,d7a8af121d7d4f3fbf01.svs,2191a7aa287ce1d5dbc0.svs,c4b95da36e32993289cb.svs,fa4959e484beec77543b.svs,72c93e042d0171a61012.svs,3d3d04eca056556b0b26.svs,084383c18b9060880e82.svs,d37ab62158945f22deed.svs,deb768e5efb9d1dcbc13.svs\n",
      "Best threshold: F1= 0.7464714606956605 Threshold= 0.6200000000000003\n",
      "Calculating F1 for test set of 7 files\n",
      "Overall: \n",
      "TP: 2586 FP: 1123 FN:  826 F1: 0.7263024856059542\n",
      "Number of mitotic figures: 3412\n",
      "Precision: 0.697 \n",
      "Recall: 0.758\n"
     ]
    }
   ],
   "source": [
    "databasefile = 'databases/MITOS_WSI_CMC_CODAEL_TR_ROI.sqlite'\n",
    "\n",
    "resfile = f'results/trainval_RetinaNet-CMC-CODAEL-512sh-b1.pth-CODAEL-val-inference_results_boxes.p.bz2'#\n",
    "ident = f'CODAEL'\n",
    "\n",
    "optimal_threshold[ident], F1scores, thrs = optimize_threshold(databasefile=databasefile, minthres=0.3, resfile=resfile)\n",
    "\n",
    "resfile = f'results/test_RetinaNet-CMC-CODAEL-512sh-b1.pth-CODAEL-val-inference_results_boxes.p.bz2'#\n",
    "\n",
    "F1_values[ident], individ = calculate_F1(databasefile=databasefile, resfile=resfile, det_thres=optimal_threshold[ident])\n"
   ]
  },
  {
   "cell_type": "markdown",
   "metadata": {},
   "source": [
    "## Second: Object Detection-Augmented and Expert Labeled (ODAEL) data set variant\n",
    "\n",
    "In this variant, an object-detection pipeline helped to find all mitotic figures and similar cells."
   ]
  },
  {
   "cell_type": "code",
   "execution_count": 3,
   "metadata": {},
   "outputs": [
    {
     "name": "stdout",
     "output_type": "stream",
     "text": [
      "Optimizing threshold for validation set of 14 files:  a8773be388e12df89edd.svs,460906c0b1fe17ea5354.svs,d0423ef9a648bb66a763.svs,50cf88e9a33df0c0c8f9.svs,da18e7b9846e9d38034c.svs,d7a8af121d7d4f3fbf01.svs,2191a7aa287ce1d5dbc0.svs,c4b95da36e32993289cb.svs,fa4959e484beec77543b.svs,72c93e042d0171a61012.svs,3d3d04eca056556b0b26.svs,084383c18b9060880e82.svs,d37ab62158945f22deed.svs,deb768e5efb9d1dcbc13.svs\n",
      "Best threshold: F1= 0.7203881647797545 Threshold= 0.6700000000000004\n",
      "Calculating F1 for test set of 7 files\n",
      "Overall: \n",
      "TP: 2459 FP: 1118 FN:  1003 F1: 0.6986787896007955\n",
      "Number of mitotic figures: 3462\n",
      "Precision: 0.687 \n",
      "Recall: 0.710\n"
     ]
    }
   ],
   "source": [
    "databasefile = 'databases/MITOS_WSI_CMC_ODAEL_TR.sqlite'\n",
    "\n",
    "resfile = f'results/trainval_RetinaNet-CMC-ODAEL-512sh-b1.pth-ODAEL-val-inference_results_boxes.p.bz2'\n",
    "ident = f'ODAEL'\n",
    "\n",
    "optimal_threshold[ident], F1scores, thrs = optimize_threshold(databasefile=databasefile, minthres=0.3, resfile=resfile)\n",
    "\n",
    "resfile = f'results/test_RetinaNet-CMC-ODAEL-512sh-b1.pth-ODAEL-val-inference_results_boxes.p.bz2'\n",
    "\n",
    "F1_values[ident], individ = calculate_F1(databasefile=databasefile, resfile=resfile, det_thres=optimal_threshold[ident])\n",
    "\n"
   ]
  },
  {
   "cell_type": "markdown",
   "metadata": {},
   "source": [
    "## Lastly: The initial manual labeling by two experts (MEL)"
   ]
  },
  {
   "cell_type": "code",
   "execution_count": 4,
   "metadata": {},
   "outputs": [
    {
     "name": "stdout",
     "output_type": "stream",
     "text": [
      "Optimizing threshold for validation set of 14 files:  a8773be388e12df89edd.svs,460906c0b1fe17ea5354.svs,d0423ef9a648bb66a763.svs,50cf88e9a33df0c0c8f9.svs,da18e7b9846e9d38034c.svs,d7a8af121d7d4f3fbf01.svs,2191a7aa287ce1d5dbc0.svs,c4b95da36e32993289cb.svs,fa4959e484beec77543b.svs,72c93e042d0171a61012.svs,3d3d04eca056556b0b26.svs,084383c18b9060880e82.svs,d37ab62158945f22deed.svs,deb768e5efb9d1dcbc13.svs\n",
      "Best threshold: F1= 0.7012792324605237 Threshold= 0.6200000000000003\n",
      "Calculating F1 for test set of 7 files\n",
      "Overall: \n",
      "TP: 2271 FP: 1075 FN:  1021 F1: 0.6842422416390479\n",
      "Number of mitotic figures: 3292\n",
      "Precision: 0.679 \n",
      "Recall: 0.690\n"
     ]
    }
   ],
   "source": [
    "databasefile = 'databases/MITOS_WSI_CMC_MEL.sqlite'\n",
    "resfile = f'results/trainval_RetinaNet-CMC-MEL-512sh-b1.pth-MEL-val-inference_results_boxes.p.bz2'#trainval_RetinaNet-CMC-MEL-512sh-b1.pth-MELshort-val-inference_results_boxes.p.bz2'\n",
    "ident = f'MEL'\n",
    "\n",
    "optimal_threshold[ident], F1scores, thrs = optimize_threshold(databasefile=databasefile, minthres=0.3, resfile=resfile)\n",
    "\n",
    "resfile = f'results/test_RetinaNet-CMC-MEL-512sh-b1.pth-MEL-val-inference_results_boxes.p.bz2'\n",
    "\n",
    "F1_values[ident], individ = calculate_F1(databasefile=databasefile, resfile=resfile, det_thres=optimal_threshold[ident])\n",
    "\n"
   ]
  },
  {
   "cell_type": "markdown",
   "metadata": {},
   "source": [
    "# Two-stage approach\n",
    "In this approach, we use the results of the previous RetinaNet as a first stage, and a ResNet-18 classifier as secondary stage. It is being evaluated for all sets.\n"
   ]
  },
  {
   "cell_type": "markdown",
   "metadata": {},
   "source": [
    "### First, again, the CODAEL data set variant."
   ]
  },
  {
   "cell_type": "code",
   "execution_count": 5,
   "metadata": {},
   "outputs": [
    {
     "name": "stdout",
     "output_type": "stream",
     "text": [
      "Optimizing threshold for validation set of 14 files:  a8773be388e12df89edd.svs,460906c0b1fe17ea5354.svs,d0423ef9a648bb66a763.svs,50cf88e9a33df0c0c8f9.svs,da18e7b9846e9d38034c.svs,d7a8af121d7d4f3fbf01.svs,2191a7aa287ce1d5dbc0.svs,c4b95da36e32993289cb.svs,fa4959e484beec77543b.svs,72c93e042d0171a61012.svs,3d3d04eca056556b0b26.svs,084383c18b9060880e82.svs,d37ab62158945f22deed.svs,deb768e5efb9d1dcbc13.svs\n",
      "Best threshold: F1= 0.8407352871324751 Threshold= 0.7400000000000004\n",
      "Calculating F1 for test set of 7 files\n",
      "Overall: \n",
      "TP: 2659 FP: 794 FN:  753 F1: 0.774654042243263\n",
      "Number of mitotic figures: 3412\n",
      "Precision: 0.770 \n",
      "Recall: 0.779\n"
     ]
    }
   ],
   "source": [
    "databasefile = 'databases/MITOS_WSI_CMC_CODAEL_TR_ROI.sqlite'\n",
    "\n",
    "resfile = 'results/trainval_2ndstage_RetinaNet-CMC-CODAEL-512sh-b1.pth-CODAEL-val-inference_results_boxes.p.bz2'\n",
    "ident = f'CODAEL_2nd'\n",
    "\n",
    "optimal_threshold[ident], F1scores, thrs = optimize_threshold(databasefile=databasefile, minthres=0.3, resfile=resfile)\n",
    "\n",
    "resfile = 'results/test_2ndstage_RetinaNet-CMC-CODAEL-512sh-b1.pth-CODAEL-val-inference_results_boxes.p.bz2'\n",
    "\n",
    "F1_values[ident], individ = calculate_F1(databasefile=databasefile, resfile=resfile, det_thres=optimal_threshold[ident])\n",
    "\n"
   ]
  },
  {
   "cell_type": "markdown",
   "metadata": {},
   "source": [
    "### Then, the ODAEL without any clustering help, detected by the dual stage setup:"
   ]
  },
  {
   "cell_type": "code",
   "execution_count": 6,
   "metadata": {},
   "outputs": [
    {
     "name": "stdout",
     "output_type": "stream",
     "text": [
      "Optimizing threshold for validation set of 14 files:  a8773be388e12df89edd.svs,460906c0b1fe17ea5354.svs,d0423ef9a648bb66a763.svs,50cf88e9a33df0c0c8f9.svs,da18e7b9846e9d38034c.svs,d7a8af121d7d4f3fbf01.svs,2191a7aa287ce1d5dbc0.svs,c4b95da36e32993289cb.svs,fa4959e484beec77543b.svs,72c93e042d0171a61012.svs,3d3d04eca056556b0b26.svs,084383c18b9060880e82.svs,d37ab62158945f22deed.svs,deb768e5efb9d1dcbc13.svs\n",
      "Best threshold: F1= 0.7937765475110963 Threshold= 0.8100000000000005\n",
      "Calculating F1 for test set of 7 files\n",
      "Overall: \n",
      "TP: 2604 FP: 1016 FN:  858 F1: 0.7353854843264614\n",
      "Number of mitotic figures: 3462\n",
      "Precision: 0.719 \n",
      "Recall: 0.752\n"
     ]
    }
   ],
   "source": [
    "databasefile = 'databases/MITOS_WSI_CMC_ODAEL_TR.sqlite'\n",
    "\n",
    "resfile = 'results/trainval_2ndstage_CellClassifier_128px_ODAEL_b1.pthRetinaNet-CMC-ODAEL-512sh-b1.pth-ODAEL-val-inference_results_boxes.p.bz2'\n",
    "ident = f'ODAEL_2nd'\n",
    "\n",
    "optimal_threshold[ident], F1scores, thrs = optimize_threshold(databasefile=databasefile, minthres=0.3, resfile=resfile)\n",
    "\n",
    "resfile = 'results/test_2ndstage_CellClassifier_128px_ODAEL_b1.pthRetinaNet-CMC-ODAEL-512sh-b1.pth-ODAEL-val-inference_results_boxes.p.bz2'\n",
    "\n",
    "F1_values[ident], individ = calculate_F1(databasefile=databasefile, resfile=resfile, det_thres=optimal_threshold[ident])\n",
    "\n"
   ]
  },
  {
   "cell_type": "markdown",
   "metadata": {},
   "source": [
    "### And finally, the manual expert-labeled set with two stages"
   ]
  },
  {
   "cell_type": "code",
   "execution_count": 7,
   "metadata": {},
   "outputs": [
    {
     "name": "stdout",
     "output_type": "stream",
     "text": [
      "Optimizing threshold for validation set of 14 files:  a8773be388e12df89edd.svs,460906c0b1fe17ea5354.svs,d0423ef9a648bb66a763.svs,50cf88e9a33df0c0c8f9.svs,da18e7b9846e9d38034c.svs,d7a8af121d7d4f3fbf01.svs,2191a7aa287ce1d5dbc0.svs,c4b95da36e32993289cb.svs,fa4959e484beec77543b.svs,72c93e042d0171a61012.svs,3d3d04eca056556b0b26.svs,084383c18b9060880e82.svs,d37ab62158945f22deed.svs,deb768e5efb9d1dcbc13.svs\n",
      "Best threshold: F1= 0.7012792324605237 Threshold= 0.6200000000000003\n",
      "Calculating F1 for test set of 14 files\n",
      "Overall: \n",
      "TP: 7204 FP: 4981 FN:  944 F1: 0.708601780357055\n",
      "Number of mitotic figures: 8148\n",
      "Precision: 0.591 \n",
      "Recall: 0.884\n"
     ]
    }
   ],
   "source": [
    "\n",
    "databasefile = 'databases/MITOS_WSI_CMC_MEL.sqlite'\n",
    "\n",
    "resfile = 'results/trainval_RetinaNet-CMC-MEL-512sh-b1.pth-MEL-val-inference_results_boxes.p.bz2'\n",
    "ident = f'MEL_2nd'\n",
    "\n",
    "optimal_threshold[ident], F1scores, thrs = optimize_threshold(databasefile=databasefile, minthres=0.3, resfile=resfile)\n",
    "\n",
    "resfile = 'results/trainval_2ndstage_RetinaNet-CMC-MEL-512sh-b1.pth-MELshort-val-inference_results_boxes.p.bz2'\n",
    "\n",
    "F1_values[ident], individ = calculate_F1(databasefile=databasefile, resfile=resfile, det_thres=optimal_threshold[ident])\n",
    "\n"
   ]
  },
  {
   "cell_type": "markdown",
   "metadata": {},
   "source": [
    "### Print out table 2 in the manuscript"
   ]
  },
  {
   "cell_type": "code",
   "execution_count": 8,
   "metadata": {},
   "outputs": [
    {
     "name": "stdout",
     "output_type": "stream",
     "text": [
      "Single stage (RetinaNet, 512$\\times$512) & 0.684 & 0.699 & 0.726 \\\n",
      "Dual stage (RetinaNet + ResNet-18) & 0.709 & 0.735 & 0.775 \\\n"
     ]
    }
   ],
   "source": [
    "print('Single stage (RetinaNet, 512$\\\\times$512)'+f' & {F1_values[\"MEL\"]:.3f} & {F1_values[\"ODAEL\"]:.3f} & {F1_values[\"CODAEL\"]:.3f} \\\\')\n",
    "print(f'Dual stage (RetinaNet + ResNet-18) & {F1_values[\"MEL_2nd\"]:.3f} & {F1_values[\"ODAEL_2nd\"]:.3f} & {F1_values[\"CODAEL_2nd\"]:.3f} \\\\')"
   ]
  },
  {
   "cell_type": "markdown",
   "metadata": {},
   "source": [
    "# Transfer on human tissue\n",
    "\n",
    "As described in the paper, we perform transfer tasks on human mammary carcinoma. For this, we detected mitoses on the publically available TUPAC16 set and its subsets. The\n",
    "AMIDA13 set is the first 23 cases of the TUPAC16 set and was acquired with a different scanner (Aperio ScanScope), which makes the image acquisition parameters very similar to our image acquisition parameters and reduced the domain shift significantly.\n",
    "\n",
    "Here, we test against the following conditions:\n",
    "\n",
    "- AMIDA13: AMIDA13 complete set\n",
    "- AMIDA13 test: AMIDA13 test set (last part of slides, used to compare against other approaches)\n",
    "- TUPAC16 training set\n",
    "\n",
    "We also relabeled the TUPAC16 set using almost the same methodology as in our paper and published this here:\n",
    "\n",
    "- Bertram, C. A., Veta, M., Marzahl, C., Stathonikos, N., Maier, A., Klopfleisch, R., & Aubreville, M. (2020). Are pathologist-defined labels reproducible? Comparison of the TUPAC16 mitotic figure dataset with an alternative set of labels. In Interpretable and Annotation-Efficient Learning for Medical Image Computing (pp. 204-213). Springer, Cham. \n",
    "https://www.springerprofessional.de/are-pathologist-defined-labels-reproducible-comparison-of-the-tu/18445612\n",
    "\n",
    "Find the complete dataset here:\n",
    "https://github.com/DeepPathology/TUPAC16_AlternativeLabels\n",
    "\n",
    "When refering to the alternative labels or AL, we refer to this alternative labels for the TUPAC16 set.\n",
    "\n",
    "\n"
   ]
  },
  {
   "cell_type": "markdown",
   "metadata": {},
   "source": [
    "- Training on: CMC dataset\n",
    "- Test on: TUPAC16 (original labels)\n",
    "- Subset: AMIDA13 test set (Slides 13..23)"
   ]
  },
  {
   "cell_type": "code",
   "execution_count": 9,
   "metadata": {},
   "outputs": [
    {
     "name": "stdout",
     "output_type": "stream",
     "text": [
      "Optimizing threshold for validation set of 14 files:  a8773be388e12df89edd.svs,460906c0b1fe17ea5354.svs,d0423ef9a648bb66a763.svs,50cf88e9a33df0c0c8f9.svs,da18e7b9846e9d38034c.svs,d7a8af121d7d4f3fbf01.svs,2191a7aa287ce1d5dbc0.svs,c4b95da36e32993289cb.svs,fa4959e484beec77543b.svs,72c93e042d0171a61012.svs,3d3d04eca056556b0b26.svs,084383c18b9060880e82.svs,d37ab62158945f22deed.svs,deb768e5efb9d1dcbc13.svs\n",
      "Best threshold: F1= 0.7464714606956605 Threshold= 0.6200000000000003\n",
      "Calculating F1 for test set of 11 files\n",
      "Overall: \n",
      "TP: 364 FP: 276.0 FN:  169 F1: 0.6206308610400681\n",
      "Number of mitotic figures: 533\n",
      "Precision: 0.569 \n",
      "Recall: 0.683\n"
     ]
    }
   ],
   "source": [
    "\n",
    "databasefile = 'databases/MITOS_WSI_CMC_CODAEL_TR_ROI.sqlite'\n",
    "\n",
    "resfile = 'results/trainval_RetinaNet-CMC-CODAEL-512sh-b1.pth-CODAEL-val-inference_results_boxes.p.bz2'\n",
    "ident = f'CODAEL_transfer'\n",
    "\n",
    "optimal_threshold[ident], F1scores, thrs = optimize_threshold(databasefile=databasefile, minthres=0.3, resfile=resfile)\n",
    "\n",
    "databasefile = 'databases/TUPAC_stitched.sqlite'\n",
    "resfile = 'results/amidatest_2ndstage_CellClassifier_128px_CODAEL_b1.pthRetinaNet-CMC-CODAEL-512sh-b1.pth-TUPAC_AL-val-inference_results_boxes.p.bz2'\n",
    "F1_values[ident], individ = calculate_F1(databasefile=databasefile, resfile=resfile, hotclass=1, det_thres=optimal_threshold[ident])\n",
    "\n"
   ]
  },
  {
   "cell_type": "markdown",
   "metadata": {},
   "source": [
    "- Training on: CMC dataset\n",
    "- Test on: TUPAC16 (alternative labels)\n",
    "- Subset: AMIDA13 test set (Slides 13..23)"
   ]
  },
  {
   "cell_type": "code",
   "execution_count": 10,
   "metadata": {},
   "outputs": [
    {
     "name": "stdout",
     "output_type": "stream",
     "text": [
      "Calculating F1 for test set of 11 files\n",
      "Overall: \n",
      "TP: 437 FP: 202 FN:  171 F1: 0.7008821170809943\n",
      "Number of mitotic figures: 608\n",
      "Precision: 0.684 \n",
      "Recall: 0.719\n"
     ]
    }
   ],
   "source": [
    "databasefile = 'databases/TUPAC_alternativeLabels_augmented_training.sqlite'\n",
    "resfile = 'results/amidatest_2ndstage_CellClassifier_128px_CODAEL_b1.pthRetinaNet-CMC-CODAEL-512sh-b1.pth-TUPAC_AL-val-inference_results_boxes.p.bz2'\n",
    "F1_values[ident], individ = calculate_F1(databasefile=databasefile, resfile=resfile, hotclass=1, det_thres=optimal_threshold[ident])\n",
    "\n"
   ]
  },
  {
   "cell_type": "markdown",
   "metadata": {},
   "source": [
    "- Training on: CMC dataset\n",
    "- Test on: TUPAC16 (alternative labels)"
   ]
  },
  {
   "cell_type": "code",
   "execution_count": 11,
   "metadata": {},
   "outputs": [
    {
     "name": "stdout",
     "output_type": "stream",
     "text": [
      "Calculating F1 for test set of 73 files\n",
      "Overall: \n",
      "TP: 1203.0 FP: 596.0 FN:  796.0 F1: 0.6334913112164297\n",
      "Number of mitotic figures: 1999\n",
      "Precision: 0.669 \n",
      "Recall: 0.602\n"
     ]
    }
   ],
   "source": [
    "databasefile = 'databases/TUPAC_alternativeLabels_augmented_training.sqlite'\n",
    "resfile = 'results/tupactrain_2ndstage_CellClassifier_128px_CODAEL_b1.pthRetinaNet-CMC-CODAEL-512sh-b1.pth-TUPAC_AL-val-inference_results_boxes.p.bz2'\n",
    "F1_values[ident], individ = calculate_F1(databasefile=databasefile, resfile=resfile, hotclass=1, det_thres=optimal_threshold[ident])\n",
    "\n"
   ]
  },
  {
   "cell_type": "markdown",
   "metadata": {},
   "source": [
    "- Training on: CMC dataset\n",
    "- Test on: TUPAC16 (original labels)\n"
   ]
  },
  {
   "cell_type": "code",
   "execution_count": 12,
   "metadata": {},
   "outputs": [
    {
     "name": "stdout",
     "output_type": "stream",
     "text": [
      "Calculating F1 for test set of 73 files\n",
      "Overall: \n",
      "TP: 954.0 FP: 850.0 FN:  598.0 F1: 0.5685339690107271\n",
      "Number of mitotic figures: 1552\n",
      "Precision: 0.529 \n",
      "Recall: 0.615\n"
     ]
    }
   ],
   "source": [
    "databasefile = 'databases/TUPAC_stitched.sqlite'\n",
    "resfile = 'results/tupactrain_2ndstage_CellClassifier_128px_CODAEL_b1.pthRetinaNet-CMC-CODAEL-512sh-b1.pth-TUPAC_AL-val-inference_results_boxes.p.bz2'\n",
    "F1_values[ident], individ = calculate_F1(databasefile=databasefile, resfile=resfile, hotclass=1, det_thres=optimal_threshold[ident])\n",
    "\n"
   ]
  },
  {
   "cell_type": "markdown",
   "metadata": {},
   "source": [
    "## AMIDA13, complete set\n",
    "\n",
    "- Training on: CMC dataset\n",
    "- Test on: TUPAC16 (alternative labels)\n",
    "- Subset: AMIDA13 complete set (Slides 1..23)"
   ]
  },
  {
   "cell_type": "code",
   "execution_count": 13,
   "metadata": {},
   "outputs": [
    {
     "name": "stdout",
     "output_type": "stream",
     "text": [
      "Calculating F1 for test set of 23 files\n",
      "Overall: \n",
      "TP: 966 FP: 519 FN:  363 F1: 0.6865671641791045\n",
      "Number of mitotic figures: 1329\n",
      "Precision: 0.651 \n",
      "Recall: 0.727\n"
     ]
    }
   ],
   "source": [
    "databasefile = 'databases/TUPAC_alternativeLabels_augmented_training.sqlite'\n",
    "resfile = 'results/amida_2ndstage_CellClassifier_128px_CODAEL_b1.pthRetinaNet-CMC-CODAEL-512sh-b1.pth-TUPAC_AL-val-inference_results_boxes.p.bz2'\n",
    "F1_values[ident], individ = calculate_F1(databasefile=databasefile, resfile=resfile, hotclass=1, det_thres=optimal_threshold[ident])\n",
    "\n"
   ]
  },
  {
   "cell_type": "markdown",
   "metadata": {},
   "source": [
    "- Training on: CMC dataset\n",
    "- Test on: TUPAC16 (original labels)\n",
    "- Subset: AMIDA13 complete set (Slides 1..23)"
   ]
  },
  {
   "cell_type": "code",
   "execution_count": 14,
   "metadata": {},
   "outputs": [
    {
     "name": "stdout",
     "output_type": "stream",
     "text": [
      "Calculating F1 for test set of 23 files\n",
      "Overall: \n",
      "TP: 752 FP: 737.0 FN:  331 F1: 0.5847589424572317\n",
      "Number of mitotic figures: 1083\n",
      "Precision: 0.505 \n",
      "Recall: 0.694\n"
     ]
    }
   ],
   "source": [
    "databasefile = 'databases/TUPAC_stitched.sqlite'\n",
    "resfile = 'results/amida_2ndstage_CellClassifier_128px_CODAEL_b1.pthRetinaNet-CMC-CODAEL-512sh-b1.pth-TUPAC_AL-val-inference_results_boxes.p.bz2'\n",
    "F1_values[ident], individ = calculate_F1(databasefile=databasefile, resfile=resfile, hotclass=1, det_thres=optimal_threshold[ident])\n",
    "\n"
   ]
  },
  {
   "cell_type": "markdown",
   "metadata": {},
   "source": [
    "# RetinaNet only (single stage)\n",
    "\n",
    "Now, for a comparison, only the first stage is evaluated.\n",
    "\n",
    "- Training on: CMC dataset\n",
    "- Test on: TUPAC16 (original labels)\n",
    "- Subset: AMIDA13 complete set (Slides 1..23)"
   ]
  },
  {
   "cell_type": "code",
   "execution_count": 15,
   "metadata": {},
   "outputs": [
    {
     "name": "stdout",
     "output_type": "stream",
     "text": [
      "Calculating F1 for test set of 23 files\n",
      "Overall: \n",
      "TP: 506 FP: 352.0 FN:  577 F1: 0.521380731581659\n",
      "Number of mitotic figures: 1083\n",
      "Precision: 0.590 \n",
      "Recall: 0.467\n"
     ]
    }
   ],
   "source": [
    "databasefile = 'databases/TUPAC_stitched.sqlite'\n",
    "resfile = 'results/amida_RetinaNet-CMC-CODAEL-512sh-b1.pth-TUPAC_AL-val-inference_results_boxes.p.bz2'\n",
    "F1_values[ident], individ = calculate_F1(databasefile=databasefile, resfile=resfile, hotclass=1, det_thres=optimal_threshold[ident])\n",
    "\n"
   ]
  },
  {
   "cell_type": "markdown",
   "metadata": {},
   "source": [
    "- Training on: CMC dataset\n",
    "- Test on: TUPAC16 (alternative labels)\n",
    "- Subset: AMIDA13 complete set (Slides 1..23)"
   ]
  },
  {
   "cell_type": "code",
   "execution_count": 16,
   "metadata": {},
   "outputs": [
    {
     "name": "stdout",
     "output_type": "stream",
     "text": [
      "Calculating F1 for test set of 23 files\n",
      "Overall: \n",
      "TP: 612.0 FP: 247.0 FN:  717.0 F1: 0.5594149908592322\n",
      "Number of mitotic figures: 1329\n",
      "Precision: 0.712 \n",
      "Recall: 0.460\n"
     ]
    }
   ],
   "source": [
    "databasefile = 'databases/TUPAC_alternativeLabels_augmented_training.sqlite'\n",
    "resfile = 'results/amida_RetinaNet-CMC-CODAEL-512sh-b1.pth-TUPAC_AL-val-inference_results_boxes.p.bz2'\n",
    "F1_values[ident], individ = calculate_F1(databasefile=databasefile, resfile=resfile, hotclass=1, det_thres=optimal_threshold[ident])\n",
    "\n"
   ]
  },
  {
   "cell_type": "markdown",
   "metadata": {},
   "source": [
    "- Training on: CMC dataset\n",
    "- Test on: TUPAC16 (original labels)\n",
    "- Subset: AMIDA13 test set (Slides 13..23)"
   ]
  },
  {
   "cell_type": "code",
   "execution_count": 17,
   "metadata": {},
   "outputs": [
    {
     "name": "stdout",
     "output_type": "stream",
     "text": [
      "Calculating F1 for test set of 11 files\n",
      "Overall: \n",
      "TP: 237 FP: 119 FN:  296 F1: 0.5331833520809899\n",
      "Number of mitotic figures: 533\n",
      "Precision: 0.666 \n",
      "Recall: 0.445\n"
     ]
    }
   ],
   "source": [
    "databasefile = 'databases/TUPAC_stitched.sqlite'\n",
    "resfile = 'results/amidatest_RetinaNet-CMC-CODAEL-512sh-b1.pth-TUPAC_AL-val-inference_results_boxes.p.bz2'\n",
    "F1_values[ident], individ = calculate_F1(databasefile=databasefile, resfile=resfile, hotclass=1, det_thres=optimal_threshold[ident])\n",
    "\n"
   ]
  },
  {
   "cell_type": "markdown",
   "metadata": {},
   "source": [
    "- Training on: CMC dataset\n",
    "- Test on: TUPAC16 (alternative labels)\n",
    "- Subset: AMIDA13 test set (Slides 13..23)"
   ]
  },
  {
   "cell_type": "code",
   "execution_count": 18,
   "metadata": {},
   "outputs": [
    {
     "name": "stdout",
     "output_type": "stream",
     "text": [
      "Calculating F1 for test set of 11 files\n",
      "Overall: \n",
      "TP: 275.0 FP: 82 FN:  333.0 F1: 0.5699481865284974\n",
      "Number of mitotic figures: 608\n",
      "Precision: 0.770 \n",
      "Recall: 0.452\n"
     ]
    }
   ],
   "source": [
    "databasefile = 'databases/TUPAC_alternativeLabels_augmented_training.sqlite'\n",
    "resfile = 'results/amidatest_RetinaNet-CMC-CODAEL-512sh-b1.pth-TUPAC_AL-val-inference_results_boxes.p.bz2'\n",
    "F1_values[ident], individ = calculate_F1(databasefile=databasefile, resfile=resfile, hotclass=1, det_thres=optimal_threshold[ident])\n",
    "\n"
   ]
  },
  {
   "cell_type": "markdown",
   "metadata": {},
   "source": [
    "- Training on: CMC dataset\n",
    "- Test on: TUPAC16 (alternative labels)\n"
   ]
  },
  {
   "cell_type": "code",
   "execution_count": 19,
   "metadata": {},
   "outputs": [
    {
     "name": "stdout",
     "output_type": "stream",
     "text": [
      "Calculating F1 for test set of 73 files\n",
      "Overall: \n",
      "TP: 870.0 FP: 365.0 FN:  1129.0 F1: 0.5380333951762524\n",
      "Number of mitotic figures: 1999\n",
      "Precision: 0.704 \n",
      "Recall: 0.435\n"
     ]
    }
   ],
   "source": [
    "databasefile = 'databases/TUPAC_alternativeLabels_augmented_training.sqlite'\n",
    "resfile = 'results/tupactrain_RetinaNet-CMC-CODAEL-512sh-b1.pth-TUPAC_AL-val-inference_results_boxes.p.bz2'\n",
    "F1_values[ident], individ = calculate_F1(databasefile=databasefile, resfile=resfile, hotclass=1, det_thres=optimal_threshold[ident])\n",
    "\n"
   ]
  },
  {
   "cell_type": "markdown",
   "metadata": {},
   "source": [
    "- Training on: CMC dataset\n",
    "- Test on: TUPAC16 (original labels)\n"
   ]
  }
 ],
 "metadata": {
  "kernelspec": {
   "display_name": "Python 3",
   "language": "python",
   "name": "python3"
  },
  "language_info": {
   "codemirror_mode": {
    "name": "ipython",
    "version": 3
   },
   "file_extension": ".py",
   "mimetype": "text/x-python",
   "name": "python",
   "nbconvert_exporter": "python",
   "pygments_lexer": "ipython3",
   "version": "3.6.9"
  }
 },
 "nbformat": 4,
 "nbformat_minor": 2
}
