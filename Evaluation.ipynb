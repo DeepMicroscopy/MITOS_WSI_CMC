{
 "cells": [
  {
   "cell_type": "code",
   "execution_count": 1,
   "metadata": {},
   "outputs": [
    {
     "name": "stdout",
     "output_type": "stream",
     "text": [
      "Done importing database\n"
     ]
    }
   ],
   "source": [
    "%reload_ext autoreload\n",
    "%autoreload 2\n",
    "%matplotlib inline\n",
    "\n",
    "\n",
    "import pickle\n",
    "import numpy as np\n",
    "\n",
    "from SlideRunner_dataAccess.database import Database\n",
    "from lib.calculate_F1 import *\n",
    "from lib.extractDetections import *\n",
    "optimal_threshold, F1_values = {},{}"
   ]
  },
  {
   "cell_type": "markdown",
   "metadata": {},
   "source": [
    "# Object detection (single shot) based on RetinaNet"
   ]
  },
  {
   "cell_type": "markdown",
   "metadata": {},
   "source": [
    "## First: Clustering- and Object-Detection-augmented Expert Labelling (CODAEL)\n",
    "\n",
    "We first optimize the threshold on the train+validation set, and then run inference on the test set."
   ]
  },
  {
   "cell_type": "code",
   "execution_count": 2,
   "metadata": {},
   "outputs": [
    {
     "name": "stdout",
     "output_type": "stream",
     "text": [
      "Optimizing threshold for validation set of 14 files:  a8773be388e12df89edd.svs,460906c0b1fe17ea5354.svs,d0423ef9a648bb66a763.svs,50cf88e9a33df0c0c8f9.svs,da18e7b9846e9d38034c.svs,d7a8af121d7d4f3fbf01.svs,2191a7aa287ce1d5dbc0.svs,c4b95da36e32993289cb.svs,72c93e042d0171a61012.svs,4eee7b944ad5e46c60ce.svs,3d3d04eca056556b0b26.svs,084383c18b9060880e82.svs,d37ab62158945f22deed.svs,deb768e5efb9d1dcbc13.svs\n",
      "Best threshold: F1= 0.7527488681131299 Threshold= 0.6300000000000003\n",
      "Calculating F1 for test set of 7 files\n",
      "Overall: \n",
      "TP: 3791 FP: 1318 FN:  1550 F1: 0.7255502392344497\n",
      "Number of mitotic figures: 5341\n",
      "Precision: 0.742 \n",
      "Recall: 0.710\n"
     ]
    }
   ],
   "source": [
    "databasefile = 'databases/MITOS_WSI_CMC_CODAEL_TR_ROI.sqlite'\n",
    "\n",
    "resfile = f'results/trainval_RetinaNet-CMC-CODAEL-512sh-b1.pth-CODAEL-val-inference_results_boxes.p.bz2'#\n",
    "ident = f'CODAEL'\n",
    "\n",
    "optimal_threshold[ident], F1scores, thrs = optimize_threshold(databasefile=databasefile, minthres=0.3, resfile=resfile)\n",
    "\n",
    "resfile = f'results/test_RetinaNet-CMC-CODAEL-512sh-b1.pth-CODAEL-val-inference_results_boxes.p.bz2'#\n",
    "\n",
    "F1_values[ident], individ = calculate_F1(databasefile=databasefile, resfile=resfile, det_thres=optimal_threshold[ident])\n"
   ]
  },
  {
   "cell_type": "markdown",
   "metadata": {},
   "source": [
    "## Second: Object Detection-Augmented and Expert Labeled (ODAEL) data set variant\n",
    "\n",
    "In this variant, an object-detection pipeline helped to find all mitotic figures and similar cells."
   ]
  },
  {
   "cell_type": "code",
   "execution_count": 3,
   "metadata": {},
   "outputs": [
    {
     "name": "stdout",
     "output_type": "stream",
     "text": [
      "Optimizing threshold for validation set of 14 files:  a8773be388e12df89edd.svs,460906c0b1fe17ea5354.svs,d0423ef9a648bb66a763.svs,50cf88e9a33df0c0c8f9.svs,da18e7b9846e9d38034c.svs,d7a8af121d7d4f3fbf01.svs,2191a7aa287ce1d5dbc0.svs,c4b95da36e32993289cb.svs,72c93e042d0171a61012.svs,4eee7b944ad5e46c60ce.svs,3d3d04eca056556b0b26.svs,084383c18b9060880e82.svs,d37ab62158945f22deed.svs,deb768e5efb9d1dcbc13.svs\n",
      "Best threshold: F1= 0.7211228716060746 Threshold= 0.6700000000000004\n",
      "Calculating F1 for test set of 7 files\n",
      "Overall: \n",
      "TP: 3763 FP: 1478 FN:  1673 F1: 0.7048796478411539\n",
      "Number of mitotic figures: 5436\n",
      "Precision: 0.718 \n",
      "Recall: 0.692\n"
     ]
    }
   ],
   "source": [
    "databasefile = 'databases/MITOS_WSI_CMC_ODAEL_TR.sqlite'\n",
    "\n",
    "resfile = f'results/trainval_RetinaNet-CMC-ODAEL-512sh-b1.pth-ODAEL-val-inference_results_boxes.p.bz2'\n",
    "ident = f'ODAEL'\n",
    "\n",
    "optimal_threshold[ident], F1scores, thrs = optimize_threshold(databasefile=databasefile, minthres=0.3, resfile=resfile)\n",
    "\n",
    "resfile = f'results/test_RetinaNet-CMC-ODAEL-512sh-b1.pth-ODAEL-val-inference_results_boxes.p.bz2'\n",
    "\n",
    "F1_values[ident], individ = calculate_F1(databasefile=databasefile, resfile=resfile, det_thres=optimal_threshold[ident])\n",
    "\n"
   ]
  },
  {
   "cell_type": "markdown",
   "metadata": {},
   "source": [
    "## Lastly: The initial manual labeling by two experts (MEL)"
   ]
  },
  {
   "cell_type": "code",
   "execution_count": 4,
   "metadata": {},
   "outputs": [
    {
     "name": "stdout",
     "output_type": "stream",
     "text": [
      "Optimizing threshold for validation set of 14 files:  a8773be388e12df89edd.svs,460906c0b1fe17ea5354.svs,d0423ef9a648bb66a763.svs,50cf88e9a33df0c0c8f9.svs,da18e7b9846e9d38034c.svs,d7a8af121d7d4f3fbf01.svs,2191a7aa287ce1d5dbc0.svs,c4b95da36e32993289cb.svs,72c93e042d0171a61012.svs,4eee7b944ad5e46c60ce.svs,3d3d04eca056556b0b26.svs,084383c18b9060880e82.svs,d37ab62158945f22deed.svs,deb768e5efb9d1dcbc13.svs\n",
      "Best threshold: F1= 0.7036853821419737 Threshold= 0.6300000000000003\n",
      "Calculating F1 for test set of 7 files\n",
      "Overall: \n",
      "TP: 3325 FP: 1208 FN:  1869 F1: 0.6836640279634009\n",
      "Number of mitotic figures: 5194\n",
      "Precision: 0.734 \n",
      "Recall: 0.640\n"
     ]
    }
   ],
   "source": [
    "databasefile = 'databases/MITOS_WSI_CMC_MEL.sqlite'\n",
    "resfile = f'results/trainval_RetinaNet-CMC-MEL-512sh-b1.pth-MEL-val-inference_results_boxes.p.bz2'#trainval_RetinaNet-CMC-MEL-512sh-b1.pth-MELshort-val-inference_results_boxes.p.bz2'\n",
    "ident = f'MEL'\n",
    "\n",
    "optimal_threshold[ident], F1scores, thrs = optimize_threshold(databasefile=databasefile, minthres=0.3, resfile=resfile)\n",
    "\n",
    "resfile = f'results/test_RetinaNet-CMC-MEL-512sh-b1.pth-MEL-val-inference_results_boxes.p.bz2'\n",
    "\n",
    "F1_values[ident], individ = calculate_F1(databasefile=databasefile, resfile=resfile, det_thres=optimal_threshold[ident])\n",
    "\n"
   ]
  },
  {
   "cell_type": "markdown",
   "metadata": {},
   "source": [
    "# Two-stage approach\n",
    "In this approach, we use the results of the previous RetinaNet as a first stage, and a ResNet-18 classifier as secondary stage. It is being evaluated for all sets.\n"
   ]
  },
  {
   "cell_type": "markdown",
   "metadata": {},
   "source": [
    "### First, again, the CODAEL data set variant."
   ]
  },
  {
   "cell_type": "code",
   "execution_count": 5,
   "metadata": {},
   "outputs": [
    {
     "name": "stdout",
     "output_type": "stream",
     "text": [
      "Optimizing threshold for validation set of 14 files:  a8773be388e12df89edd.svs,460906c0b1fe17ea5354.svs,d0423ef9a648bb66a763.svs,50cf88e9a33df0c0c8f9.svs,da18e7b9846e9d38034c.svs,d7a8af121d7d4f3fbf01.svs,2191a7aa287ce1d5dbc0.svs,c4b95da36e32993289cb.svs,72c93e042d0171a61012.svs,4eee7b944ad5e46c60ce.svs,3d3d04eca056556b0b26.svs,084383c18b9060880e82.svs,d37ab62158945f22deed.svs,deb768e5efb9d1dcbc13.svs\n",
      "Best threshold: F1= 0.8426933597159983 Threshold= 0.7500000000000004\n",
      "Calculating F1 for test set of 7 files\n",
      "Overall: \n",
      "TP: 4187 FP: 1027 FN:  1154 F1: 0.7933680720037897\n",
      "Number of mitotic figures: 5341\n",
      "Precision: 0.803 \n",
      "Recall: 0.784\n"
     ]
    }
   ],
   "source": [
    "databasefile = 'databases/MITOS_WSI_CMC_CODAEL_TR_ROI.sqlite'\n",
    "\n",
    "resfile = 'results/trainval_2ndstage_RetinaNet-CMC-CODAEL-512sh-b1.pth-CODAEL-val-inference_results_boxes.p.bz2'\n",
    "ident = f'CODAEL_2nd'\n",
    "\n",
    "optimal_threshold[ident], F1scores, thrs = optimize_threshold(databasefile=databasefile, minthres=0.3, resfile=resfile)\n",
    "\n",
    "resfile = 'results/test_2ndstage_RetinaNet-CMC-CODAEL-512sh-b1.pth-CODAEL-val-inference_results_boxes.p.bz2'\n",
    "\n",
    "F1_values[ident], individ = calculate_F1(databasefile=databasefile, resfile=resfile, det_thres=optimal_threshold[ident])\n",
    "\n"
   ]
  },
  {
   "cell_type": "markdown",
   "metadata": {},
   "source": [
    "### Then, the ODAEL without any clustering help, detected by the dual stage setup:"
   ]
  },
  {
   "cell_type": "code",
   "execution_count": 6,
   "metadata": {},
   "outputs": [
    {
     "name": "stdout",
     "output_type": "stream",
     "text": [
      "Optimizing threshold for validation set of 14 files:  a8773be388e12df89edd.svs,460906c0b1fe17ea5354.svs,d0423ef9a648bb66a763.svs,50cf88e9a33df0c0c8f9.svs,da18e7b9846e9d38034c.svs,d7a8af121d7d4f3fbf01.svs,2191a7aa287ce1d5dbc0.svs,c4b95da36e32993289cb.svs,72c93e042d0171a61012.svs,4eee7b944ad5e46c60ce.svs,3d3d04eca056556b0b26.svs,084383c18b9060880e82.svs,d37ab62158945f22deed.svs,deb768e5efb9d1dcbc13.svs\n",
      "Best threshold: F1= 0.791042144242638 Threshold= 0.8100000000000005\n",
      "Calculating F1 for test set of 7 files\n",
      "Overall: \n",
      "TP: 4191 FP: 1395 FN:  1245 F1: 0.7604790419161677\n",
      "Number of mitotic figures: 5436\n",
      "Precision: 0.750 \n",
      "Recall: 0.771\n"
     ]
    }
   ],
   "source": [
    "databasefile = 'databases/MITOS_WSI_CMC_ODAEL_TR.sqlite'\n",
    "\n",
    "resfile = 'results/trainval_2ndstage_CellClassifier_128px_ODAEL_b1.pthRetinaNet-CMC-ODAEL-512sh-b1.pth-ODAEL-val-inference_results_boxes.p.bz2'\n",
    "ident = f'ODAEL_2nd'\n",
    "\n",
    "optimal_threshold[ident], F1scores, thrs = optimize_threshold(databasefile=databasefile, minthres=0.3, resfile=resfile)\n",
    "\n",
    "resfile = 'results/test_2ndstage_CellClassifier_128px_ODAEL_b1.pthRetinaNet-CMC-ODAEL-512sh-b1.pth-ODAEL-val-inference_results_boxes.p.bz2'\n",
    "\n",
    "F1_values[ident], individ = calculate_F1(databasefile=databasefile, resfile=resfile, det_thres=optimal_threshold[ident])\n",
    "\n"
   ]
  },
  {
   "cell_type": "markdown",
   "metadata": {},
   "source": [
    "### And finally, the manual expert-labeled set with two stages"
   ]
  },
  {
   "cell_type": "code",
   "execution_count": 7,
   "metadata": {},
   "outputs": [
    {
     "name": "stdout",
     "output_type": "stream",
     "text": [
      "Optimizing threshold for validation set of 14 files:  a8773be388e12df89edd.svs,460906c0b1fe17ea5354.svs,d0423ef9a648bb66a763.svs,50cf88e9a33df0c0c8f9.svs,da18e7b9846e9d38034c.svs,d7a8af121d7d4f3fbf01.svs,2191a7aa287ce1d5dbc0.svs,c4b95da36e32993289cb.svs,72c93e042d0171a61012.svs,4eee7b944ad5e46c60ce.svs,3d3d04eca056556b0b26.svs,084383c18b9060880e82.svs,d37ab62158945f22deed.svs,deb768e5efb9d1dcbc13.svs\n",
      "Best threshold: F1= 0.7036853821419737 Threshold= 0.6300000000000003\n",
      "Calculating F1 for test set of 14 files\n",
      "Overall: \n",
      "TP: 7168 FP: 4776 FN:  980 F1: 0.7135178180370296\n",
      "Number of mitotic figures: 8148\n",
      "Precision: 0.600 \n",
      "Recall: 0.880\n"
     ]
    }
   ],
   "source": [
    "\n",
    "databasefile = 'databases/MITOS_WSI_CMC_MEL.sqlite'\n",
    "\n",
    "resfile = 'results/trainval_RetinaNet-CMC-MEL-512sh-b1.pth-MEL-val-inference_results_boxes.p.bz2'\n",
    "ident = f'MEL_2nd'\n",
    "\n",
    "optimal_threshold[ident], F1scores, thrs = optimize_threshold(databasefile=databasefile, minthres=0.3, resfile=resfile)\n",
    "\n",
    "resfile = 'results/trainval_2ndstage_RetinaNet-CMC-MEL-512sh-b1.pth-MELshort-val-inference_results_boxes.p.bz2'\n",
    "\n",
    "F1_values[ident], individ = calculate_F1(databasefile=databasefile, resfile=resfile, det_thres=optimal_threshold[ident])\n",
    "\n"
   ]
  },
  {
   "cell_type": "markdown",
   "metadata": {},
   "source": [
    "### Print out table 2 in the manuscript"
   ]
  },
  {
   "cell_type": "code",
   "execution_count": 8,
   "metadata": {},
   "outputs": [
    {
     "name": "stdout",
     "output_type": "stream",
     "text": [
      "Single stage (RetinaNet, 512$\\times$512) & 0.684 & 0.705 & 0.726 \\\n",
      "Dual stage (RetinaNet + ResNet-18) & 0.714 & 0.760 & 0.793 \\\n"
     ]
    }
   ],
   "source": [
    "print('Single stage (RetinaNet, 512$\\\\times$512)'+f' & {F1_values[\"MEL\"]:.3f} & {F1_values[\"ODAEL\"]:.3f} & {F1_values[\"CODAEL\"]:.3f} \\\\')\n",
    "print(f'Dual stage (RetinaNet + ResNet-18) & {F1_values[\"MEL_2nd\"]:.3f} & {F1_values[\"ODAEL_2nd\"]:.3f} & {F1_values[\"CODAEL_2nd\"]:.3f} \\\\')"
   ]
  },
  {
   "cell_type": "markdown",
   "metadata": {},
   "source": [
    "# Transfer on human tissue\n",
    "\n",
    "As described in the paper, we perform transfer tasks on human mammary carcinoma. For this, we detected mitoses on the publically available TUPAC16 set and its subsets. The\n",
    "AMIDA13 set is the first 23 cases of the TUPAC16 set and was acquired with a different scanner (Aperio ScanScope), which makes the image acquisition parameters very similar to our image acquisition parameters and reduced the domain shift significantly.\n",
    "\n",
    "Here, we test against the following conditions:\n",
    "\n",
    "- AMIDA13: AMIDA13 complete set\n",
    "- AMIDA13 test: AMIDA13 test set (last part of slides, used to compare against other approaches)\n",
    "- TUPAC16 training set\n",
    "\n",
    "We also relabeled the TUPAC16 set using almost the same methodology as in our paper and published this here:\n",
    "\n",
    "- Bertram, C. A., Veta, M., Marzahl, C., Stathonikos, N., Maier, A., Klopfleisch, R., & Aubreville, M. (2020). Are pathologist-defined labels reproducible? Comparison of the TUPAC16 mitotic figure dataset with an alternative set of labels. In Interpretable and Annotation-Efficient Learning for Medical Image Computing (pp. 204-213). Springer, Cham. \n",
    "https://www.springerprofessional.de/are-pathologist-defined-labels-reproducible-comparison-of-the-tu/18445612\n",
    "\n",
    "Find the complete dataset here:\n",
    "https://github.com/DeepPathology/TUPAC16_AlternativeLabels\n",
    "\n",
    "When refering to the alternative labels or AL, we refer to this alternative labels for the TUPAC16 set.\n",
    "\n",
    "\n"
   ]
  },
  {
   "cell_type": "markdown",
   "metadata": {},
   "source": [
    "- Training on: CMC dataset\n",
    "- Test on: TUPAC16 (original labels)\n",
    "- Subset: AMIDA13 test set (Slides 13..23)"
   ]
  },
  {
   "cell_type": "code",
   "execution_count": 9,
   "metadata": {},
   "outputs": [
    {
     "name": "stdout",
     "output_type": "stream",
     "text": [
      "Optimizing threshold for validation set of 14 files:  a8773be388e12df89edd.svs,460906c0b1fe17ea5354.svs,d0423ef9a648bb66a763.svs,50cf88e9a33df0c0c8f9.svs,da18e7b9846e9d38034c.svs,d7a8af121d7d4f3fbf01.svs,2191a7aa287ce1d5dbc0.svs,c4b95da36e32993289cb.svs,72c93e042d0171a61012.svs,4eee7b944ad5e46c60ce.svs,3d3d04eca056556b0b26.svs,084383c18b9060880e82.svs,d37ab62158945f22deed.svs,deb768e5efb9d1dcbc13.svs\n",
      "Best threshold: F1= 0.7527488681131299 Threshold= 0.6300000000000003\n",
      "Calculating F1 for test set of 11 files\n",
      "Overall: \n",
      "TP: 362 FP: 270.0 FN:  171 F1: 0.6214592274678111\n",
      "Number of mitotic figures: 533\n",
      "Precision: 0.573 \n",
      "Recall: 0.679\n"
     ]
    }
   ],
   "source": [
    "\n",
    "databasefile = 'databases/MITOS_WSI_CMC_CODAEL_TR_ROI.sqlite'\n",
    "\n",
    "resfile = 'results/trainval_RetinaNet-CMC-CODAEL-512sh-b1.pth-CODAEL-val-inference_results_boxes.p.bz2'\n",
    "ident = f'CODAEL_transfer'\n",
    "\n",
    "optimal_threshold[ident], F1scores, thrs = optimize_threshold(databasefile=databasefile, minthres=0.3, resfile=resfile)\n",
    "\n",
    "databasefile = 'databases/TUPAC_stitched.sqlite'\n",
    "resfile = 'results/amidatest_2ndstage_CellClassifier_128px_CODAEL_b1.pthRetinaNet-CMC-CODAEL-512sh-b1.pth-TUPAC_AL-val-inference_results_boxes.p.bz2'\n",
    "F1_values[ident], individ = calculate_F1(databasefile=databasefile, resfile=resfile, hotclass=1, det_thres=optimal_threshold[ident])\n",
    "\n"
   ]
  },
  {
   "cell_type": "markdown",
   "metadata": {},
   "source": [
    "- Training on: CMC dataset\n",
    "- Test on: TUPAC16 (alternative labels)\n",
    "- Subset: AMIDA13 test set (Slides 13..23)"
   ]
  },
  {
   "cell_type": "code",
   "execution_count": 10,
   "metadata": {},
   "outputs": [
    {
     "name": "stdout",
     "output_type": "stream",
     "text": [
      "Calculating F1 for test set of 11 files\n",
      "Overall: \n",
      "TP: 435 FP: 196 FN:  173 F1: 0.7021791767554479\n",
      "Number of mitotic figures: 608\n",
      "Precision: 0.689 \n",
      "Recall: 0.715\n"
     ]
    }
   ],
   "source": [
    "databasefile = 'databases/TUPAC_alternativeLabels_augmented_training.sqlite'\n",
    "resfile = 'results/amidatest_2ndstage_CellClassifier_128px_CODAEL_b1.pthRetinaNet-CMC-CODAEL-512sh-b1.pth-TUPAC_AL-val-inference_results_boxes.p.bz2'\n",
    "F1_values[ident], individ = calculate_F1(databasefile=databasefile, resfile=resfile, hotclass=1, det_thres=optimal_threshold[ident])\n",
    "\n"
   ]
  },
  {
   "cell_type": "markdown",
   "metadata": {},
   "source": [
    "- Training on: CMC dataset\n",
    "- Test on: TUPAC16 (alternative labels)"
   ]
  },
  {
   "cell_type": "code",
   "execution_count": 11,
   "metadata": {},
   "outputs": [
    {
     "name": "stdout",
     "output_type": "stream",
     "text": [
      "Calculating F1 for test set of 73 files\n",
      "Overall: \n",
      "TP: 1189.0 FP: 581.0 FN:  810.0 F1: 0.6309365879543646\n",
      "Number of mitotic figures: 1999\n",
      "Precision: 0.672 \n",
      "Recall: 0.595\n"
     ]
    }
   ],
   "source": [
    "databasefile = 'databases/TUPAC_alternativeLabels_augmented_training.sqlite'\n",
    "resfile = 'results/tupactrain_2ndstage_CellClassifier_128px_CODAEL_b1.pthRetinaNet-CMC-CODAEL-512sh-b1.pth-TUPAC_AL-val-inference_results_boxes.p.bz2'\n",
    "F1_values[ident], individ = calculate_F1(databasefile=databasefile, resfile=resfile, hotclass=1, det_thres=optimal_threshold[ident])\n",
    "\n"
   ]
  },
  {
   "cell_type": "markdown",
   "metadata": {},
   "source": [
    "- Training on: CMC dataset\n",
    "- Test on: TUPAC16 (original labels)\n"
   ]
  },
  {
   "cell_type": "code",
   "execution_count": 12,
   "metadata": {},
   "outputs": [
    {
     "name": "stdout",
     "output_type": "stream",
     "text": [
      "Calculating F1 for test set of 73 files\n",
      "Overall: \n",
      "TP: 944.0 FP: 831.0 FN:  608.0 F1: 0.567478208596333\n",
      "Number of mitotic figures: 1552\n",
      "Precision: 0.532 \n",
      "Recall: 0.608\n"
     ]
    }
   ],
   "source": [
    "databasefile = 'databases/TUPAC_stitched.sqlite'\n",
    "resfile = 'results/tupactrain_2ndstage_CellClassifier_128px_CODAEL_b1.pthRetinaNet-CMC-CODAEL-512sh-b1.pth-TUPAC_AL-val-inference_results_boxes.p.bz2'\n",
    "F1_values[ident], individ = calculate_F1(databasefile=databasefile, resfile=resfile, hotclass=1, det_thres=optimal_threshold[ident])\n",
    "\n"
   ]
  },
  {
   "cell_type": "markdown",
   "metadata": {},
   "source": [
    "## AMIDA13, complete set\n",
    "\n",
    "- Training on: CMC dataset\n",
    "- Test on: TUPAC16 (alternative labels)\n",
    "- Subset: AMIDA13 complete set (Slides 1..23)"
   ]
  },
  {
   "cell_type": "code",
   "execution_count": 13,
   "metadata": {},
   "outputs": [
    {
     "name": "stdout",
     "output_type": "stream",
     "text": [
      "Calculating F1 for test set of 23 files\n",
      "Overall: \n",
      "TP: 961 FP: 506 FN:  368 F1: 0.6874105865522174\n",
      "Number of mitotic figures: 1329\n",
      "Precision: 0.655 \n",
      "Recall: 0.723\n"
     ]
    }
   ],
   "source": [
    "databasefile = 'databases/TUPAC_alternativeLabels_augmented_training.sqlite'\n",
    "resfile = 'results/amida_2ndstage_CellClassifier_128px_CODAEL_b1.pthRetinaNet-CMC-CODAEL-512sh-b1.pth-TUPAC_AL-val-inference_results_boxes.p.bz2'\n",
    "F1_values[ident], individ = calculate_F1(databasefile=databasefile, resfile=resfile, hotclass=1, det_thres=optimal_threshold[ident])\n",
    "\n"
   ]
  },
  {
   "cell_type": "markdown",
   "metadata": {},
   "source": [
    "- Training on: CMC dataset\n",
    "- Test on: TUPAC16 (original labels)\n",
    "- Subset: AMIDA13 complete set (Slides 1..23)"
   ]
  },
  {
   "cell_type": "code",
   "execution_count": 14,
   "metadata": {},
   "outputs": [
    {
     "name": "stdout",
     "output_type": "stream",
     "text": [
      "Calculating F1 for test set of 23 files\n",
      "Overall: \n",
      "TP: 749 FP: 722.0 FN:  334 F1: 0.586530931871574\n",
      "Number of mitotic figures: 1083\n",
      "Precision: 0.509 \n",
      "Recall: 0.692\n"
     ]
    }
   ],
   "source": [
    "databasefile = 'databases/TUPAC_stitched.sqlite'\n",
    "resfile = 'results/amida_2ndstage_CellClassifier_128px_CODAEL_b1.pthRetinaNet-CMC-CODAEL-512sh-b1.pth-TUPAC_AL-val-inference_results_boxes.p.bz2'\n",
    "F1_values[ident], individ = calculate_F1(databasefile=databasefile, resfile=resfile, hotclass=1, det_thres=optimal_threshold[ident])\n",
    "\n"
   ]
  },
  {
   "cell_type": "markdown",
   "metadata": {},
   "source": [
    "# RetinaNet only (single stage)\n",
    "\n",
    "Now, for a comparison, only the first stage is evaluated.\n",
    "\n",
    "- Training on: CMC dataset\n",
    "- Test on: TUPAC16 (original labels)\n",
    "- Subset: AMIDA13 complete set (Slides 1..23)"
   ]
  },
  {
   "cell_type": "code",
   "execution_count": 15,
   "metadata": {},
   "outputs": [
    {
     "name": "stdout",
     "output_type": "stream",
     "text": [
      "Calculating F1 for test set of 23 files\n",
      "Overall: \n",
      "TP: 479 FP: 314.0 FN:  604 F1: 0.5106609808102346\n",
      "Number of mitotic figures: 1083\n",
      "Precision: 0.604 \n",
      "Recall: 0.442\n"
     ]
    }
   ],
   "source": [
    "databasefile = 'databases/TUPAC_stitched.sqlite'\n",
    "resfile = 'results/amida_RetinaNet-CMC-CODAEL-512sh-b1.pth-TUPAC_AL-val-inference_results_boxes.p.bz2'\n",
    "F1_values[ident], individ = calculate_F1(databasefile=databasefile, resfile=resfile, hotclass=1, det_thres=optimal_threshold[ident])\n",
    "\n"
   ]
  },
  {
   "cell_type": "markdown",
   "metadata": {},
   "source": [
    "- Training on: CMC dataset\n",
    "- Test on: TUPAC16 (alternative labels)\n",
    "- Subset: AMIDA13 complete set (Slides 1..23)"
   ]
  },
  {
   "cell_type": "code",
   "execution_count": 16,
   "metadata": {},
   "outputs": [
    {
     "name": "stdout",
     "output_type": "stream",
     "text": [
      "Calculating F1 for test set of 23 files\n",
      "Overall: \n",
      "TP: 581 FP: 213.0 FN:  748 F1: 0.5473386716910033\n",
      "Number of mitotic figures: 1329\n",
      "Precision: 0.732 \n",
      "Recall: 0.437\n"
     ]
    }
   ],
   "source": [
    "databasefile = 'databases/TUPAC_alternativeLabels_augmented_training.sqlite'\n",
    "resfile = 'results/amida_RetinaNet-CMC-CODAEL-512sh-b1.pth-TUPAC_AL-val-inference_results_boxes.p.bz2'\n",
    "F1_values[ident], individ = calculate_F1(databasefile=databasefile, resfile=resfile, hotclass=1, det_thres=optimal_threshold[ident])\n",
    "\n"
   ]
  },
  {
   "cell_type": "markdown",
   "metadata": {},
   "source": [
    "- Training on: CMC dataset\n",
    "- Test on: TUPAC16 (original labels)\n",
    "- Subset: AMIDA13 test set (Slides 13..23)"
   ]
  },
  {
   "cell_type": "code",
   "execution_count": 17,
   "metadata": {},
   "outputs": [
    {
     "name": "stdout",
     "output_type": "stream",
     "text": [
      "Calculating F1 for test set of 11 files\n",
      "Overall: \n",
      "TP: 227 FP: 110.0 FN:  306 F1: 0.5218390804597701\n",
      "Number of mitotic figures: 533\n",
      "Precision: 0.674 \n",
      "Recall: 0.426\n"
     ]
    }
   ],
   "source": [
    "databasefile = 'databases/TUPAC_stitched.sqlite'\n",
    "resfile = 'results/amidatest_RetinaNet-CMC-CODAEL-512sh-b1.pth-TUPAC_AL-val-inference_results_boxes.p.bz2'\n",
    "F1_values[ident], individ = calculate_F1(databasefile=databasefile, resfile=resfile, hotclass=1, det_thres=optimal_threshold[ident])\n",
    "\n"
   ]
  },
  {
   "cell_type": "markdown",
   "metadata": {},
   "source": [
    "- Training on: CMC dataset\n",
    "- Test on: TUPAC16 (alternative labels)\n",
    "- Subset: AMIDA13 test set (Slides 13..23)"
   ]
  },
  {
   "cell_type": "code",
   "execution_count": 18,
   "metadata": {},
   "outputs": [
    {
     "name": "stdout",
     "output_type": "stream",
     "text": [
      "Calculating F1 for test set of 11 files\n",
      "Overall: \n",
      "TP: 263 FP: 75 FN:  345 F1: 0.5560253699788583\n",
      "Number of mitotic figures: 608\n",
      "Precision: 0.778 \n",
      "Recall: 0.433\n"
     ]
    }
   ],
   "source": [
    "databasefile = 'databases/TUPAC_alternativeLabels_augmented_training.sqlite'\n",
    "resfile = 'results/amidatest_RetinaNet-CMC-CODAEL-512sh-b1.pth-TUPAC_AL-val-inference_results_boxes.p.bz2'\n",
    "F1_values[ident], individ = calculate_F1(databasefile=databasefile, resfile=resfile, hotclass=1, det_thres=optimal_threshold[ident])\n",
    "\n"
   ]
  },
  {
   "cell_type": "markdown",
   "metadata": {},
   "source": [
    "- Training on: CMC dataset\n",
    "- Test on: TUPAC16 (alternative labels)\n"
   ]
  },
  {
   "cell_type": "code",
   "execution_count": 19,
   "metadata": {},
   "outputs": [
    {
     "name": "stdout",
     "output_type": "stream",
     "text": [
      "Calculating F1 for test set of 73 files\n",
      "Overall: \n",
      "TP: 822.0 FP: 310.0 FN:  1177.0 F1: 0.5250718620249122\n",
      "Number of mitotic figures: 1999\n",
      "Precision: 0.726 \n",
      "Recall: 0.411\n"
     ]
    }
   ],
   "source": [
    "databasefile = 'databases/TUPAC_alternativeLabels_augmented_training.sqlite'\n",
    "resfile = 'results/tupactrain_RetinaNet-CMC-CODAEL-512sh-b1.pth-TUPAC_AL-val-inference_results_boxes.p.bz2'\n",
    "F1_values[ident], individ = calculate_F1(databasefile=databasefile, resfile=resfile, hotclass=1, det_thres=optimal_threshold[ident])\n",
    "\n"
   ]
  },
  {
   "cell_type": "markdown",
   "metadata": {},
   "source": [
    "- Training on: CMC dataset\n",
    "- Test on: TUPAC16 (original labels)\n"
   ]
  }
 ],
 "metadata": {
  "kernelspec": {
   "display_name": "Python 3",
   "language": "python",
   "name": "python3"
  },
  "language_info": {
   "codemirror_mode": {
    "name": "ipython",
    "version": 3
   },
   "file_extension": ".py",
   "mimetype": "text/x-python",
   "name": "python",
   "nbconvert_exporter": "python",
   "pygments_lexer": "ipython3",
   "version": "3.6.9"
  }
 },
 "nbformat": 4,
 "nbformat_minor": 2
}
