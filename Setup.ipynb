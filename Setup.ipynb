{
 "cells": [
  {
   "cell_type": "markdown",
   "metadata": {},
   "source": [
    "# Set up notebook to download the data set\n",
    "\n",
    "This notebook will download"
   ]
  },
  {
   "cell_type": "code",
   "execution_count": null,
   "metadata": {},
   "outputs": [],
   "source": [
    "import urllib.request\n",
    "import os\n",
    "from tqdm import tqdm\n",
    "downloadableFiles = {'WSI/deb768e5efb9d1dcbc13.svs' : #18\n",
    "                         'https://ndownloader.figshare.com/files/22407414?private_link=be072bf30fd3f63b03cc',\n",
    "                     'WSI/d37ab62158945f22deed.svs' : #19\n",
    "                         'https://ndownloader.figshare.com/files/22407438?private_link=be072bf30fd3f63b03cc',\n",
    "                     'WSI/022857018aa597374b6c.svs': #1,\n",
    "                         'https://ndownloader.figshare.com/files/22407537?private_link=be072bf30fd3f63b03cc',\n",
    "                     'WSI/69a02453620ade0edefd.svs': #2\n",
    "                          'https://ndownloader.figshare.com/files/22407411?private_link=be072bf30fd3f63b03cc', \n",
    "                     'WSI/a8773be388e12df89edd.svs': #3\n",
    "                          'https://ndownloader.figshare.com/files/22407540?private_link=be072bf30fd3f63b03cc',\n",
    "                     'WSI/c4b95da36e32993289cb.svs': #4\n",
    "                          'https://ndownloader.figshare.com/files/22407552?private_link=be072bf30fd3f63b03cc',\n",
    "                     'WSI/3d3d04eca056556b0b26.svs': #5\n",
    "                          'https://ndownloader.figshare.com/files/22407585?private_link=be072bf30fd3f63b03cc',\n",
    "                     'WSI/d0423ef9a648bb66a763.svs': #6\n",
    "                          'https://ndownloader.figshare.com/files/22407624?private_link=be072bf30fd3f63b03cc',\n",
    "                     'WSI/50cf88e9a33df0c0c8f9.svs': #7\n",
    "                          'https://ndownloader.figshare.com/files/22407531?private_link=be072bf30fd3f63b03cc',\n",
    "                     'WSI/084383c18b9060880e82.svs': #8\n",
    "                         'https://ndownloader.figshare.com/files/22407486?private_link=be072bf30fd3f63b03cc',\n",
    "                     'WSI/4eee7b944ad5e46c60ce.svs': #9\n",
    "                         'https://ndownloader.figshare.com/files/22407528?private_link=be072bf30fd3f63b03cc',\n",
    "                     'WSI/2191a7aa287ce1d5dbc0.svs' : #10\n",
    "                         'https://ndownloader.figshare.com/files/22407525?private_link=be072bf30fd3f63b03cc',\n",
    "                     'WSI/13528f1921d4f1f15511.svs' : #11\n",
    "                         'https://ndownloader.figshare.com/files/22407519?private_link=be072bf30fd3f63b03cc',\n",
    "                     'WSI/2d56d1902ca533a5b509.svs' : #12\n",
    "                         'https://ndownloader.figshare.com/files/22407522?private_link=be072bf30fd3f63b03cc',\n",
    "                     'WSI/460906c0b1fe17ea5354.svs' : #13\n",
    "                         'https://ndownloader.figshare.com/files/22407447?private_link=be072bf30fd3f63b03cc',\n",
    "                     'WSI/da18e7b9846e9d38034c.svs' : #14\n",
    "                         'https://ndownloader.figshare.com/files/22407453?private_link=be072bf30fd3f63b03cc',\n",
    "                     'WSI/72c93e042d0171a61012.svs' : #15\n",
    "                         'https://ndownloader.figshare.com/files/22407456?private_link=be072bf30fd3f63b03cc',\n",
    "                     'WSI/b1bdee8e5e3372174619.svs' : #16\n",
    "                         'https://ndownloader.figshare.com/files/22407423?private_link=be072bf30fd3f63b03cc',\n",
    "                     'WSI/fa4959e484beec77543b.svs' : #17\n",
    "                         'https://ndownloader.figshare.com/files/22407459?private_link=be072bf30fd3f63b03cc',\n",
    "                     'WSI/e09512d530d933e436d5.svs' : #20\n",
    "                         'https://ndownloader.figshare.com/files/22407465?private_link=be072bf30fd3f63b03cc',\n",
    "                     'WSI/d7a8af121d7d4f3fbf01.svs' : #21\n",
    "                         'https://ndownloader.figshare.com/files/22407477?private_link=be072bf30fd3f63b03cc',\n",
    "                    }\n",
    "\n",
    "# Create folder for WSI if nonexistant\n",
    "if not os.path.isdir('WSI'):\n",
    "    os.mkdir('WSI')\n",
    "\n",
    "tqdm.write('Downloading all files from figshare - take a coffee and sit down, this will take some while, we are downloading above 37GB ...')\n",
    "    \n",
    "\n",
    "from time import sleep    \n",
    "sleep(0.5)\n",
    "\n",
    "import requests\n",
    "\n",
    "                    \n",
    "for fname in tqdm(list(downloadableFiles.keys())):\n",
    "    urllib.request.urlretrieve(downloadableFiles[fname],fname)\n"
   ]
  },
  {
   "cell_type": "code",
   "execution_count": null,
   "metadata": {},
   "outputs": [],
   "source": []
  }
 ],
 "metadata": {
  "kernelspec": {
   "display_name": "Python 3",
   "language": "python",
   "name": "python3"
  },
  "language_info": {
   "codemirror_mode": {
    "name": "ipython",
    "version": 3
   },
   "file_extension": ".py",
   "mimetype": "text/x-python",
   "name": "python",
   "nbconvert_exporter": "python",
   "pygments_lexer": "ipython3",
   "version": "3.6.9"
  }
 },
 "nbformat": 4,
 "nbformat_minor": 2
}
