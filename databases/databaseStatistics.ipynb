{
 "cells": [
  {
   "cell_type": "markdown",
   "metadata": {},
   "source": [
    "## Database statistics for SCI Data publication - Will give the contents of Table 1"
   ]
  },
  {
   "cell_type": "code",
   "execution_count": 1,
   "metadata": {},
   "outputs": [],
   "source": [
    "from SlideRunner.dataAccess.database import Database\n",
    "import SlideRunner.dataAccess.database\n",
    "import os\n",
    "import numpy as np\n",
    "import openslide\n",
    "import cv2"
   ]
  },
  {
   "cell_type": "code",
   "execution_count": 2,
   "metadata": {},
   "outputs": [],
   "source": [
    "\n",
    "test_slides = ['14','18','3','22','10','15','21']\n",
    "\n"
   ]
  },
  {
   "cell_type": "markdown",
   "metadata": {},
   "source": [
    "## Query all databases for the respective classes. Joint query to have all in the same order."
   ]
  },
  {
   "cell_type": "code",
   "execution_count": 3,
   "metadata": {},
   "outputs": [],
   "source": [
    "DB = Database().open('MITOS_WSI_CMC_ODAEL_TR.sqlite')\n",
    "DB.execute('ATTACH `MITOS_WSI_CMC_MEL.sqlite` as MEL;')\n",
    "DB.execute('ATTACH `MITOS_WSI_CMC_CODAEL_TR_ROI.sqlite` as CODAEL;')\n",
    "\n",
    "ODAEL = DB.execute(\"\"\"\n",
    "SELECT * FROM (\n",
    "SELECT filename, MitoticFigures, MitoticFigureLookalikes FROM \n",
    "(SELECT COUNT(*) as MitoticFigureLookalikes, slide from Annotations where agreedClass==1 group by slide) as cls1\n",
    "LEFT JOIN (SELECT COUNT(*) as MitoticFigures, slide from Annotations where agreedClass==2 group by slide) as cls2 on cls2.slide == cls1.slide\n",
    "LEFT JOIN Slides on Slides.uid == cls2.slide order by mitoticFigures) as ODAEL\n",
    "LEFT JOIN \n",
    "(\n",
    "SELECT filename, MitoticFigures, MitoticFigureLookalikes FROM (\n",
    "SELECT COUNT(*) as MitoticFigures, slide from MEL.Annotations where agreedClass==2 group by slide) as cls2\n",
    "LEFT JOIN (SELECT COUNT(*) as MitoticFigureLookalikes, slide from MEL.Annotations where agreedClass==1 group by slide) as cls1 on cls1.slide == cls2.slide\n",
    "LEFT JOIN MEL.Slides on Slides.uid == cls2.slide order by mitoticFigures\n",
    ") as MEL on MEL.filename == ODAEL.filename\n",
    "LEFT JOIN \n",
    "(\n",
    "SELECT filename, MitoticFigures, MitoticFigureLookalikes FROM \n",
    "(SELECT COUNT(*) as MitoticFigureLookalikes, slide from CODAEL.Annotations where agreedClass==1 group by slide) as cls1\n",
    "LEFT JOIN (SELECT COUNT(*) as MitoticFigures, slide from CODAEL.Annotations where agreedClass==2 group by slide) as cls2 on cls2.slide == cls1.slide\n",
    "LEFT JOIN MEL.Slides on Slides.uid == cls2.slide order by mitoticFigures\n",
    ") as CODAEL on CODAEL.filename == ODAEL.filename order by CODAEL.mitoticFigures\n",
    "\n",
    "\n",
    "\"\"\").fetchall()"
   ]
  },
  {
   "cell_type": "markdown",
   "metadata": {},
   "source": [
    "Output everything in LateX table format"
   ]
  },
  {
   "cell_type": "code",
   "execution_count": 4,
   "metadata": {},
   "outputs": [
    {
     "data": {
      "text/plain": [
       "[]"
      ]
     },
     "execution_count": 4,
     "metadata": {},
     "output_type": "execute_result"
    }
   ],
   "source": [
    "DB.execute(\"\"\"SELECT COUNT(*) as MitoticFigureLookalikes, slide from Annotations where agreedClass==7 group by slide\"\"\").fetchall()"
   ]
  },
  {
   "cell_type": "code",
   "execution_count": 5,
   "metadata": {},
   "outputs": [
    {
     "data": {
      "text/plain": [
       "('4eee7b944ad5e46c60ce.svs',\n",
       " 61,\n",
       " 196,\n",
       " '4eee7b944ad5e46c60ce.svs',\n",
       " 47,\n",
       " 114,\n",
       " '4eee7b944ad5e46c60ce.svs',\n",
       " 64,\n",
       " 193)"
      ]
     },
     "execution_count": 5,
     "metadata": {},
     "output_type": "execute_result"
    }
   ],
   "source": [
    "ODAEL[0]"
   ]
  },
  {
   "cell_type": "code",
   "execution_count": 6,
   "metadata": {},
   "outputs": [
    {
     "name": "stdout",
     "output_type": "stream",
     "text": [
      "1 & 4eee7b944ad5e46c60ce.svs & 66.06\\,$\\mathrm{mm2}^2$ & 47 / 61 / 64 & 114 / 196 / 193 & test \\\\ \n",
      "2 & a8773be388e12df89edd.svs & 37.01\\,$\\mathrm{mm2}^2$ & 64 / 71 / 74 & 204 / 591 / 588 & train \\\\ \n",
      "3 & deb768e5efb9d1dcbc13.svs & 187.43\\,$\\mathrm{mm2}^2$ & 92 / 96 / 84 & 287 / 472 / 484 & train \\\\ \n",
      "4 & e09512d530d933e436d5.svs & 214.97\\,$\\mathrm{mm2}^2$ & 87 / 98 / 102 & 602 / 742 / 738 & test \\\\ \n",
      "5 & 72c93e042d0171a61012.svs & 26.29\\,$\\mathrm{mm2}^2$ & 130 / 151 / 140 & 375 / 680 / 691 & train \\\\ \n",
      "6 & 2d56d1902ca533a5b509.svs & 49.32\\,$\\mathrm{mm2}^2$ & 139 / 155 / 153 & 228 / 365 / 367 & test \\\\ \n",
      "7 & 084383c18b9060880e82.svs & 41.71\\,$\\mathrm{mm2}^2$ & 157 / 173 / 160 & 404 / 547 / 560 & train \\\\ \n",
      "8 & da18e7b9846e9d38034c.svs & 253.10\\,$\\mathrm{mm2}^2$ & 187 / 210 / 211 & 991 / 1,354 / 1,353 & train \\\\ \n",
      "9 & 13528f1921d4f1f15511.svs & 339.93\\,$\\mathrm{mm2}^2$ & 283 / 301 / 292 & 963 / 1,127 / 1,136 & test \\\\ \n",
      "10 & d0423ef9a648bb66a763.svs & 273.88\\,$\\mathrm{mm2}^2$ & 378 / 411 / 354 & 1,143 / 1,596 / 1,653 & train \\\\ \n",
      "11 & 69a02453620ade0edefd.svs & 45.35\\,$\\mathrm{mm2}^2$ & 634 / 642 / 612 & 1,407 / 1,505 / 1,535 & test \\\\ \n",
      "12 & d37ab62158945f22deed.svs & 226.39\\,$\\mathrm{mm2}^2$ & 578 / 651 / 674 & 1,105 / 1,725 / 1,702 & train \\\\ \n",
      "13 & d7a8af121d7d4f3fbf01.svs & 426.92\\,$\\mathrm{mm2}^2$ & 716 / 746 / 720 & 1,832 / 2,373 / 2,399 & train \\\\ \n",
      "14 & 460906c0b1fe17ea5354.svs & 112.24\\,$\\mathrm{mm2}^2$ & 673 / 742 / 754 & 1,199 / 2,480 / 2,468 & train \\\\ \n",
      "15 & b1bdee8e5e3372174619.svs & 231.84\\,$\\mathrm{mm2}^2$ & 812 / 861 / 869 & 1,260 / 1,832 / 1,824 & test \\\\ \n",
      "16 & c4b95da36e32993289cb.svs & 257.01\\,$\\mathrm{mm2}^2$ & 1,097 / 1,114 / 1,085 & 2,454 / 2,944 / 2,973 & train \\\\ \n",
      "17 & 022857018aa597374b6c.svs & 325.81\\,$\\mathrm{mm2}^2$ & 1,290 / 1,344 / 1,320 & 2,463 / 3,106 / 3,130 & test \\\\ \n",
      "18 & 50cf88e9a33df0c0c8f9.svs & 269.25\\,$\\mathrm{mm2}^2$ & 1,197 / 1,339 / 1,337 & 1,632 / 2,550 / 2,552 & train \\\\ \n",
      "19 & 3d3d04eca056556b0b26.svs & 513.28\\,$\\mathrm{mm2}^2$ & 1,383 / 1,465 / 1,447 & 2,110 / 2,933 / 2,951 & train \\\\ \n",
      "20 & 2191a7aa287ce1d5dbc0.svs & 96.38\\,$\\mathrm{mm2}^2$ & 1,449 / 1,485 / 1,462 & 2,155 / 2,609 / 2,632 & train \\\\ \n",
      "21 & fa4959e484beec77543b.svs & 365.91\\,$\\mathrm{mm2}^2$ & 1,949 / 2,035 / 1,993 & 3,598 / 4,408 / 4,450 & train \\\\ \n"
     ]
    }
   ],
   "source": [
    "\n",
    "\n",
    "dbTumor = Database()\n",
    "\n",
    "dbTumor.open('./MITOS_WSI_CMC_CODAEL_TR_ROI.sqlite')\n",
    "totalarea = 0\n",
    "totalmit = 0\n",
    "totalnonmit = 0\n",
    "totalmit_mel, totalnonmit_mel = 0,0\n",
    "totalmit_odael, totalnonmit_odael = 0,0\n",
    "for idx, (filename, mitA, nonmitA, _, mit,nonmit, _,  mitC,nonmitC) in enumerate(ODAEL):\n",
    "\n",
    "    dbTSlide = dbTumor.findSlideWithFilename(os.path.basename(filename), slidepath='')\n",
    "    dbTumor.loadIntoMemory(dbTSlide)\n",
    "    \n",
    "    slide = openslide.open_slide('../WSI/'+filename)\n",
    "\n",
    "\n",
    "    positiveId = dbTumor.findClassidOfClass('Tumor region')[0][0]\n",
    "    import matplotlib.path as p\n",
    "\n",
    "    micronsPerPixel = slide.properties[openslide.PROPERTY_NAME_MPP_X]\n",
    "    mpp_scaled = float(slide.level_downsamples[-1]) * float(micronsPerPixel)  \n",
    "\n",
    "    slideActiveMap = np.zeros((slide.level_dimensions[-1][::-1]))\n",
    "    ds = slide.level_downsamples[-1]\n",
    "    for anno in dbTumor.annotations.keys():\n",
    "        if (dbTumor.annotations[anno].agreedLabel()==positiveId) and (type(dbTumor.annotations[anno]) == type(dbTumor.annotations[anno]) == SlideRunner.dataAccess.annotations.polygonAnnotation):\n",
    "            co = dbTumor.annotations[anno].coordinates\n",
    "            p3 = np.int32([np.asarray(co)/ds])\n",
    "            cv2.fillPoly(slideActiveMap, p3,color=[255] )\n",
    "\n",
    "    for anno in dbTumor.annotations.keys():\n",
    "        if not (dbTumor.annotations[anno].agreedLabel()==positiveId) and (type(dbTumor.annotations[anno]) == type(dbTumor.annotations[anno]) == SlideRunner.dataAccess.annotations.polygonAnnotation):\n",
    "            co = dbTumor.annotations[anno].coordinates\n",
    "            p3 = np.int32([np.asarray(co)/ds])\n",
    "            cv2.fillPoly(slideActiveMap, p3,color=[0] )\n",
    "    mm2 = np.sum(slideActiveMap>0)*mpp_scaled*mpp_scaled/1E6\n",
    "    totalarea += mm2\n",
    "    totalmit += mitC\n",
    "    totalnonmit += nonmitC\n",
    "    \n",
    "    totalmit_mel, totalnonmit_mel = totalmit_mel+mit, totalnonmit_mel+nonmit\n",
    "    totalmit_odael, totalnonmit_odael = totalmit_odael+mitA, totalnonmit_odael+nonmitA\n",
    "    \n",
    "    fname = filename.replace('_','\\\\_')\n",
    "    print(f\"{idx+1} & {fname} & {mm2:.2f}\\,$\\\\mathrm\"+\"{mm2}\"+f\"^2$ & {mit:,d} / {mitA:,d} / {mitC:,d} & {nonmit:,d} / {nonmitA:,d} / {nonmitC:,d} & {'test' if str(dbTSlide) in test_slides else 'train'} \\\\\\\\ \")\n",
    "    "
   ]
  },
  {
   "cell_type": "code",
   "execution_count": 7,
   "metadata": {},
   "outputs": [
    {
     "data": {
      "text/plain": [
       "(26526, 36135, 36379)"
      ]
     },
     "execution_count": 7,
     "metadata": {},
     "output_type": "execute_result"
    }
   ],
   "source": [
    "totalnonmit_mel, totalnonmit_odael, totalnonmit"
   ]
  },
  {
   "cell_type": "code",
   "execution_count": 8,
   "metadata": {},
   "outputs": [
    {
     "data": {
      "text/plain": [
       "(13342, 14151, 13907)"
      ]
     },
     "execution_count": 8,
     "metadata": {},
     "output_type": "execute_result"
    }
   ],
   "source": [
    "totalmit_mel, totalmit_odael, totalmit\n"
   ]
  },
  {
   "cell_type": "markdown",
   "metadata": {},
   "source": [
    "## And finally the question: What is the total area?"
   ]
  },
  {
   "cell_type": "code",
   "execution_count": 9,
   "metadata": {},
   "outputs": [
    {
     "name": "stdout",
     "output_type": "stream",
     "text": [
      "Total area:  4360.07788915561 mm^2\n",
      "mitotic figures in CODAEL data set 13907\n",
      "nonmitotic figures in CODAEL data set 36379\n"
     ]
    }
   ],
   "source": [
    "print('Total area: ',totalarea,'mm^2')\n",
    "print('mitotic figures in CODAEL data set',totalmit)\n",
    "print('nonmitotic figures in CODAEL data set',totalnonmit)\n"
   ]
  },
  {
   "cell_type": "code",
   "execution_count": null,
   "metadata": {},
   "outputs": [],
   "source": []
  }
 ],
 "metadata": {
  "kernelspec": {
   "display_name": "Python 3",
   "language": "python",
   "name": "python3"
  },
  "language_info": {
   "codemirror_mode": {
    "name": "ipython",
    "version": 3
   },
   "file_extension": ".py",
   "mimetype": "text/x-python",
   "name": "python",
   "nbconvert_exporter": "python",
   "pygments_lexer": "ipython3",
   "version": "3.6.9"
  }
 },
 "nbformat": 4,
 "nbformat_minor": 2
}
