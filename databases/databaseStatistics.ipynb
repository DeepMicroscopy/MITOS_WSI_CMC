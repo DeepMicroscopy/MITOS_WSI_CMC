{
 "cells": [
  {
   "cell_type": "markdown",
   "metadata": {},
   "source": [
    "## Database statistics for SCI Data publication - Will give the contents of Table 1"
   ]
  },
  {
   "cell_type": "code",
   "execution_count": 1,
   "metadata": {},
   "outputs": [],
   "source": [
    "from SlideRunner.dataAccess.database import Database\n",
    "import SlideRunner.dataAccess.database\n",
    "import os\n",
    "import numpy as np\n",
    "import openslide\n",
    "import cv2"
   ]
  },
  {
   "cell_type": "code",
   "execution_count": 2,
   "metadata": {},
   "outputs": [],
   "source": [
    "\n",
    "test_slides = ['14','18','3','22','10','15','21']\n",
    "\n"
   ]
  },
  {
   "cell_type": "markdown",
   "metadata": {},
   "source": [
    "## Query all databases for the respective classes. Joint query to have all in the same order."
   ]
  },
  {
   "cell_type": "code",
   "execution_count": 3,
   "metadata": {},
   "outputs": [],
   "source": [
    "DB = Database().open('MITOS_WSI_CMC_ODAEL_TR.sqlite')\n",
    "DB.execute('ATTACH `MITOS_WSI_CMC_MEL.sqlite` as MEL;')\n",
    "DB.execute('ATTACH `MITOS_WSI_CMC_CODAEL_TR.sqlite` as CODAEL;')\n",
    "\n",
    "ODAEL = DB.execute(\"\"\"\n",
    "SELECT * FROM (\n",
    "SELECT filename, MitoticFigures, MitoticFigureLookalikes FROM \n",
    "(SELECT COUNT(*) as MitoticFigureLookalikes, slide from Annotations where agreedClass==1 group by slide) as cls1\n",
    "LEFT JOIN (SELECT COUNT(*) as MitoticFigures, slide from Annotations where agreedClass==2 group by slide) as cls2 on cls2.slide == cls1.slide\n",
    "LEFT JOIN Slides on Slides.uid == cls2.slide order by mitoticFigures) as ODAEL\n",
    "LEFT JOIN \n",
    "(\n",
    "SELECT filename, MitoticFigures, MitoticFigureLookalikes FROM (\n",
    "SELECT COUNT(*) as MitoticFigures, slide from MEL.Annotations where agreedClass==2 group by slide) as cls2\n",
    "LEFT JOIN (SELECT COUNT(*) as MitoticFigureLookalikes, slide from MEL.Annotations where agreedClass==1 group by slide) as cls1 on cls1.slide == cls2.slide\n",
    "LEFT JOIN MEL.Slides on Slides.uid == cls2.slide order by mitoticFigures\n",
    ") as MEL on MEL.filename == ODAEL.filename\n",
    "LEFT JOIN \n",
    "(\n",
    "SELECT filename, MitoticFigures, MitoticFigureLookalikes FROM \n",
    "(SELECT COUNT(*) as MitoticFigureLookalikes, slide from CODAEL.Annotations where agreedClass==1 group by slide) as cls1\n",
    "LEFT JOIN (SELECT COUNT(*) as MitoticFigures, slide from CODAEL.Annotations where agreedClass==2 group by slide) as cls2 on cls2.slide == cls1.slide\n",
    "LEFT JOIN MEL.Slides on Slides.uid == cls2.slide order by mitoticFigures\n",
    ") as CODAEL on CODAEL.filename == ODAEL.filename\n",
    "\n",
    "\n",
    "\"\"\").fetchall()"
   ]
  },
  {
   "cell_type": "markdown",
   "metadata": {},
   "source": [
    "Output everything in LateX table format"
   ]
  },
  {
   "cell_type": "code",
   "execution_count": 4,
   "metadata": {},
   "outputs": [
    {
     "data": {
      "text/plain": [
       "[]"
      ]
     },
     "execution_count": 4,
     "metadata": {},
     "output_type": "execute_result"
    }
   ],
   "source": [
    "DB.execute(\"\"\"SELECT COUNT(*) as MitoticFigureLookalikes, slide from Annotations where agreedClass==7 group by slide\"\"\").fetchall()"
   ]
  },
  {
   "cell_type": "code",
   "execution_count": 5,
   "metadata": {},
   "outputs": [
    {
     "data": {
      "text/plain": [
       "('4eee7b944ad5e46c60ce.svs',\n",
       " 61,\n",
       " 196,\n",
       " '4eee7b944ad5e46c60ce.svs',\n",
       " 47,\n",
       " 114,\n",
       " '4eee7b944ad5e46c60ce.svs',\n",
       " 64,\n",
       " 193)"
      ]
     },
     "execution_count": 5,
     "metadata": {},
     "output_type": "execute_result"
    }
   ],
   "source": [
    "ODAEL[0]"
   ]
  },
  {
   "cell_type": "code",
   "execution_count": 6,
   "metadata": {},
   "outputs": [
    {
     "name": "stdout",
     "output_type": "stream",
     "text": [
      "4eee7b944ad5e46c60ce.svs & 66.06\\,$\\mathrm{mm}^2$ & 47 / 61 / 64 & 114 / 196 / 193 & test \\\\ \n",
      "a8773be388e12df89edd.svs & 37.01\\,$\\mathrm{mm}^2$ & 64 / 72 / 75 & 204 / 590 / 587 & train \\\\ \n",
      "e09512d530d933e436d5.svs & 214.97\\,$\\mathrm{mm}^2$ & 80 / 91 / 95 & 609 / 749 / 745 & test \\\\ \n",
      "deb768e5efb9d1dcbc13.svs & 187.43\\,$\\mathrm{mm}^2$ & 92 / 96 / 86 & 287 / 472 / 482 & train \\\\ \n",
      "72c93e042d0171a61012.svs & 26.29\\,$\\mathrm{mm}^2$ & 131 / 153 / 142 & 374 / 678 / 689 & train \\\\ \n",
      "2d56d1902ca533a5b509.svs & 49.32\\,$\\mathrm{mm}^2$ & 139 / 155 / 153 & 228 / 365 / 367 & test \\\\ \n",
      "084383c18b9060880e82.svs & 41.71\\,$\\mathrm{mm}^2$ & 143 / 159 / 146 & 418 / 561 / 574 & train \\\\ \n",
      "da18e7b9846e9d38034c.svs & 253.10\\,$\\mathrm{mm}^2$ & 183 / 206 / 206 & 995 / 1358 / 1358 & train \\\\ \n",
      "13528f1921d4f1f15511.svs & 339.93\\,$\\mathrm{mm}^2$ & 282 / 302 / 293 & 964 / 1126 / 1135 & test \\\\ \n",
      "d0423ef9a648bb66a763.svs & 273.88\\,$\\mathrm{mm}^2$ & 379 / 411 / 353 & 1142 / 1596 / 1654 & train \\\\ \n",
      "69a02453620ade0edefd.svs & 45.35\\,$\\mathrm{mm}^2$ & 632 / 641 / 611 & 1409 / 1506 / 1536 & test \\\\ \n",
      "d37ab62158945f22deed.svs & 226.39\\,$\\mathrm{mm}^2$ & 571 / 645 / 669 & 1112 / 1731 / 1707 & train \\\\ \n",
      "460906c0b1fe17ea5354.svs & 112.24\\,$\\mathrm{mm}^2$ & 678 / 748 / 762 & 1194 / 2474 / 2460 & train \\\\ \n",
      "d7a8af121d7d4f3fbf01.svs & 426.92\\,$\\mathrm{mm}^2$ & 726 / 758 / 731 & 1822 / 2361 / 2388 & train \\\\ \n",
      "b1bdee8e5e3372174619.svs & 231.84\\,$\\mathrm{mm}^2$ & 807 / 856 / 865 & 1265 / 1837 / 1828 & test \\\\ \n",
      "c4b95da36e32993289cb.svs & 257.01\\,$\\mathrm{mm}^2$ & 1090 / 1106 / 1080 & 2461 / 2952 / 2978 & train \\\\ \n",
      "50cf88e9a33df0c0c8f9.svs & 269.25\\,$\\mathrm{mm}^2$ & 1200 / 1343 / 1340 & 1629 / 2546 / 2549 & train \\\\ \n",
      "022857018aa597374b6c.svs & 325.81\\,$\\mathrm{mm}^2$ & 1298 / 1354 / 1342 & 2455 / 3096 / 3108 & test \\\\ \n",
      "3d3d04eca056556b0b26.svs & 513.28\\,$\\mathrm{mm}^2$ & 1390 / 1474 / 1460 & 2103 / 2924 / 2938 & train \\\\ \n",
      "2191a7aa287ce1d5dbc0.svs & 96.38\\,$\\mathrm{mm}^2$ & 1446 / 1483 / 1460 & 2158 / 2611 / 2634 & train \\\\ \n",
      "fa4959e484beec77543b.svs & 365.91\\,$\\mathrm{mm}^2$ & 1949 / 2040 / 2004 & 3598 / 4403 / 4439 & train \\\\ \n"
     ]
    }
   ],
   "source": [
    "\n",
    "\n",
    "dbTumor = Database()\n",
    "\n",
    "dbTumor.open('./MITOS_WSI_CMC_CODAEL_TR.sqlite')\n",
    "totalarea = 0\n",
    "totalmit = 0\n",
    "totalnonmit = 0\n",
    "totalmit_mel, totalnonmit_mel = 0,0\n",
    "totalmit_odael, totalnonmit_odael = 0,0\n",
    "for (filename, mitA, nonmitA, _, mit,nonmit, _,  mitC,nonmitC) in ODAEL:\n",
    "\n",
    "    dbTSlide = dbTumor.findSlideWithFilename(os.path.basename(filename), slidepath='')\n",
    "    dbTumor.loadIntoMemory(dbTSlide)\n",
    "    \n",
    "    slide = openslide.open_slide('../WSI/'+filename)\n",
    "\n",
    "\n",
    "    positiveId = dbTumor.findClassidOfClass('Tumor region')[0][0]\n",
    "    import matplotlib.path as p\n",
    "\n",
    "    micronsPerPixel = slide.properties[openslide.PROPERTY_NAME_MPP_X]\n",
    "    mpp_scaled = float(slide.level_downsamples[-1]) * float(micronsPerPixel)  \n",
    "\n",
    "    slideActiveMap = np.zeros((slide.level_dimensions[-1][::-1]))\n",
    "    ds = slide.level_downsamples[-1]\n",
    "    for anno in dbTumor.annotations.keys():\n",
    "        if (dbTumor.annotations[anno].agreedLabel()==positiveId) and (type(dbTumor.annotations[anno]) == type(dbTumor.annotations[anno]) == SlideRunner.dataAccess.annotations.polygonAnnotation):\n",
    "            co = dbTumor.annotations[anno].coordinates\n",
    "            p3 = np.int32([np.asarray(co)/ds])\n",
    "            cv2.fillPoly(slideActiveMap, p3,color=[255] )\n",
    "\n",
    "    for anno in dbTumor.annotations.keys():\n",
    "        if not (dbTumor.annotations[anno].agreedLabel()==positiveId) and (type(dbTumor.annotations[anno]) == type(dbTumor.annotations[anno]) == SlideRunner.dataAccess.annotations.polygonAnnotation):\n",
    "            co = dbTumor.annotations[anno].coordinates\n",
    "            p3 = np.int32([np.asarray(co)/ds])\n",
    "            cv2.fillPoly(slideActiveMap, p3,color=[0] )\n",
    "    mm2 = np.sum(slideActiveMap>0)*mpp_scaled*mpp_scaled/1E6\n",
    "    totalarea += mm2\n",
    "    totalmit += mitC\n",
    "    totalnonmit += nonmitC\n",
    "    \n",
    "    totalmit_mel, totalnonmit_mel = totalmit_mel+mit, totalnonmit_mel+nonmit\n",
    "    totalmit_odael, totalnonmit_odael = totalmit_odael+mitA, totalnonmit_odael+nonmitA\n",
    "                \n",
    "    print('%s & %.2f\\,$\\\\mathrm{mm}^2$ & %d / %d / %d & %d / %d / %d & %s \\\\\\\\ ' % \n",
    "          (filename.replace('_','\\\\_'), mm2, mit,mitA,mitC,nonmit,nonmitA,nonmitC, 'test' if str(dbTSlide) in test_slides else 'train'))\n",
    "    "
   ]
  },
  {
   "cell_type": "code",
   "execution_count": 7,
   "metadata": {},
   "outputs": [
    {
     "data": {
      "text/plain": [
       "(26541, 36132, 36349)"
      ]
     },
     "execution_count": 7,
     "metadata": {},
     "output_type": "execute_result"
    }
   ],
   "source": [
    "totalnonmit_mel, totalnonmit_odael, totalnonmit"
   ]
  },
  {
   "cell_type": "code",
   "execution_count": 8,
   "metadata": {},
   "outputs": [
    {
     "data": {
      "text/plain": [
       "(13327, 14154, 13937)"
      ]
     },
     "execution_count": 8,
     "metadata": {},
     "output_type": "execute_result"
    }
   ],
   "source": [
    "totalmit_mel, totalmit_odael, totalmit\n"
   ]
  },
  {
   "cell_type": "markdown",
   "metadata": {},
   "source": [
    "## And finally the question: What is the total area?"
   ]
  },
  {
   "cell_type": "code",
   "execution_count": 9,
   "metadata": {},
   "outputs": [
    {
     "name": "stdout",
     "output_type": "stream",
     "text": [
      "Total area:  4360.07788915561 mm^2\n",
      "mitotic figures in CODAEL data set 13937\n",
      "nonmitotic figures in CODAEL data set 36349\n"
     ]
    }
   ],
   "source": [
    "print('Total area: ',totalarea,'mm^2')\n",
    "print('mitotic figures in CODAEL data set',totalmit)\n",
    "print('nonmitotic figures in CODAEL data set',totalnonmit)\n"
   ]
  },
  {
   "cell_type": "code",
   "execution_count": null,
   "metadata": {},
   "outputs": [],
   "source": []
  }
 ],
 "metadata": {
  "kernelspec": {
   "display_name": "Python 3",
   "language": "python",
   "name": "python3"
  },
  "language_info": {
   "codemirror_mode": {
    "name": "ipython",
    "version": 3
   },
   "file_extension": ".py",
   "mimetype": "text/x-python",
   "name": "python",
   "nbconvert_exporter": "python",
   "pygments_lexer": "ipython3",
   "version": "3.6.9"
  }
 },
 "nbformat": 4,
 "nbformat_minor": 2
}
